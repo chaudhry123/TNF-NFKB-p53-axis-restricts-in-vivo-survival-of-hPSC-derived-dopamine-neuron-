{
 "cells": [
  {
   "cell_type": "code",
   "execution_count": 41,
   "metadata": {
    "collapsed": true
   },
   "outputs": [],
   "source": [
    "import numpy as np\n",
    "import pandas as pd\n",
    "import matplotlib.pyplot as pl\n",
    "import scanpy as sc\n",
    "import igraph\n",
    "import scvelo as scv\n",
    "import loompy as lmp\n",
    "import anndata\n",
    "import os\n",
    "import re\n",
    "scv.set_figure_params(style=\"scvelo\")\n",
    "pl.rcParams[\"figure.figsize\"] = (10,10)\n",
    "Colorss=[\"#E41A1C\",\"#377EB8\",\"#4DAF4A\",\"#984EA3\",\"#FF7F00\",\"#FFFF33\",\"#A65628\",\"#F781BF\"]\n",
    "#velocyto run10x /Volumes/Extreme\\ Pro/D16_boost/ Users/fayzan/Downloads/refdata-gex-GRCh38-2020-A/genes/genes.gtf\n",
    "%matplotlib inline\n"
   ]
  },
  {
   "cell_type": "code",
   "execution_count": 8,
   "outputs": [
    {
     "name": "stdout",
     "output_type": "stream",
     "text": [
      "Package                       Version\r\n",
      "----------------------------- -----------\r\n",
      "anndata                       0.9.2\r\n",
      "anyio                         3.6.2\r\n",
      "appnope                       0.1.3\r\n",
      "argon2-cffi                   21.3.0\r\n",
      "argon2-cffi-bindings          21.2.0\r\n",
      "asttokens                     2.2.1\r\n",
      "attrs                         23.1.0\r\n",
      "backcall                      0.2.0\r\n",
      "backports.functools-lru-cache 1.6.4\r\n",
      "beautifulsoup4                4.12.2\r\n",
      "bleach                        6.0.0\r\n",
      "certifi                       2023.5.7\r\n",
      "cffi                          1.15.1\r\n",
      "charset-normalizer            3.1.0\r\n",
      "click                         8.1.7\r\n",
      "cloudpickle                   2.2.1\r\n",
      "comm                          0.1.3\r\n",
      "contourpy                     1.0.7\r\n",
      "cycler                        0.11.0\r\n",
      "debugpy                       1.6.7\r\n",
      "decorator                     5.1.1\r\n",
      "defusedxml                    0.7.1\r\n",
      "entrypoints                   0.4\r\n",
      "executing                     1.2.0\r\n",
      "fastjsonschema                2.16.3\r\n",
      "filelock                      3.12.0\r\n",
      "flit_core                     3.8.0\r\n",
      "fonttools                     4.39.4\r\n",
      "get-annotations               0.1.2\r\n",
      "h5py                          3.11.0\r\n",
      "idna                          3.4\r\n",
      "igraph                        0.11.4\r\n",
      "importlib-metadata            6.6.0\r\n",
      "importlib-resources           5.12.0\r\n",
      "ipykernel                     6.23.0\r\n",
      "ipython                       8.4.0\r\n",
      "ipython-genutils              0.2.0\r\n",
      "ipywidgets                    8.0.6\r\n",
      "jedi                          0.18.2\r\n",
      "Jinja2                        3.1.2\r\n",
      "joblib                        1.2.0\r\n",
      "jsonschema                    4.17.3\r\n",
      "jupyter                       1.0.0\r\n",
      "jupyter_client                8.2.0\r\n",
      "jupyter-console               6.6.3\r\n",
      "jupyter_core                  5.3.0\r\n",
      "jupyter-events                0.6.3\r\n",
      "jupyter_server                2.5.0\r\n",
      "jupyter_server_terminals      0.4.4\r\n",
      "jupyterlab-pygments           0.2.2\r\n",
      "jupyterlab-widgets            3.0.7\r\n",
      "kiwisolver                    1.4.4\r\n",
      "llvmlite                      0.36.0\r\n",
      "loompy                        3.0.7\r\n",
      "MarkupSafe                    2.1.2\r\n",
      "matplotlib                    3.7.1\r\n",
      "matplotlib-inline             0.1.6\r\n",
      "mistune                       2.0.5\r\n",
      "mpmath                        1.3.0\r\n",
      "natsort                       8.4.0\r\n",
      "nbclassic                     1.0.0\r\n",
      "nbclient                      0.7.4\r\n",
      "nbconvert                     7.4.0\r\n",
      "nbformat                      5.8.0\r\n",
      "nest-asyncio                  1.5.6\r\n",
      "networkx                      3.1\r\n",
      "notebook                      6.5.4\r\n",
      "notebook_shim                 0.2.3\r\n",
      "numba                         0.53.0\r\n",
      "numpy                         1.23.0\r\n",
      "numpy-groupies                0.9.22\r\n",
      "packaging                     23.1\r\n",
      "pandas                        2.0.3\r\n",
      "pandocfilters                 1.5.0\r\n",
      "parso                         0.8.3\r\n",
      "patsy                         0.5.6\r\n",
      "pexpect                       4.8.0\r\n",
      "pickleshare                   0.7.5\r\n",
      "Pillow                        9.5.0\r\n",
      "pip                           23.1.2\r\n",
      "pkgutil_resolve_name          1.3.10\r\n",
      "platformdirs                  3.5.0\r\n",
      "ply                           3.11\r\n",
      "prometheus-client             0.16.0\r\n",
      "prompt-toolkit                3.0.38\r\n",
      "psutil                        5.9.5\r\n",
      "ptyprocess                    0.7.0\r\n",
      "pure-eval                     0.2.2\r\n",
      "pycparser                     2.21\r\n",
      "Pygments                      2.15.1\r\n",
      "pynndescent                   0.5.12\r\n",
      "pyobjc-core                   9.1.1\r\n",
      "pyobjc-framework-Cocoa        9.1.1\r\n",
      "pyparsing                     3.0.9\r\n",
      "PyQt5                         5.15.7\r\n",
      "PyQt5-sip                     12.11.0\r\n",
      "pyreadr                       0.4.7\r\n",
      "pyrsistent                    0.19.3\r\n",
      "python-dateutil               2.8.2\r\n",
      "python-json-logger            2.0.7\r\n",
      "pytz                          2023.3\r\n",
      "PyYAML                        6.0\r\n",
      "pyzmq                         25.0.2\r\n",
      "qtconsole                     5.4.3\r\n",
      "QtPy                          2.3.1\r\n",
      "requests                      2.30.0\r\n",
      "rfc3339-validator             0.1.4\r\n",
      "rfc3986-validator             0.1.1\r\n",
      "scanpy                        1.9.8\r\n",
      "scikit-learn                  1.2.2\r\n",
      "scipy                         1.10.1\r\n",
      "scvelo                        0.3.2\r\n",
      "seaborn                       0.13.2\r\n",
      "Send2Trash                    1.8.2\r\n",
      "session-info                  1.0.0\r\n",
      "setuptools                    67.7.2\r\n",
      "shap                          0.41.0\r\n",
      "sip                           6.7.9\r\n",
      "six                           1.16.0\r\n",
      "sklearn                       0.0.post5\r\n",
      "slicer                        0.0.7\r\n",
      "sniffio                       1.3.0\r\n",
      "soupsieve                     2.3.2.post1\r\n",
      "stack-data                    0.6.2\r\n",
      "statsmodels                   0.14.1\r\n",
      "stdlib-list                   0.10.0\r\n",
      "sympy                         1.12\r\n",
      "terminado                     0.17.1\r\n",
      "texttable                     1.7.0\r\n",
      "threadpoolctl                 3.1.0\r\n",
      "tinycss2                      1.2.1\r\n",
      "toml                          0.10.2\r\n",
      "tomli                         2.0.1\r\n",
      "torch                         2.0.1\r\n",
      "torchaudio                    2.0.2\r\n",
      "torchvision                   0.15.2\r\n",
      "tornado                       6.3\r\n",
      "tqdm                          4.65.0\r\n",
      "traitlets                     5.9.0\r\n",
      "typing_extensions             4.5.0\r\n",
      "tzdata                        2023.3\r\n",
      "umap-learn                    0.5.6\r\n",
      "urllib3                       2.0.2\r\n",
      "wcwidth                       0.2.6\r\n",
      "webencodings                  0.5.1\r\n",
      "websocket-client              1.5.1\r\n",
      "wheel                         0.40.0\r\n",
      "widgetsnbextension            4.0.7\r\n",
      "xgboost                       1.7.6\r\n",
      "zipp                          3.15.0\r\n"
     ]
    }
   ],
   "source": [
    "!pip list"
   ],
   "metadata": {
    "collapsed": false
   }
  },
  {
   "cell_type": "code",
   "execution_count": 4,
   "outputs": [
    {
     "name": "stdout",
     "output_type": "stream",
     "text": [
      "Requirement already satisfied: scanpy in /Users/fayzan/opt/anaconda3/envs/PGS/lib/python3.8/site-packages (1.9.8)\r\n",
      "Requirement already satisfied: anndata>=0.7.4 in /Users/fayzan/opt/anaconda3/envs/PGS/lib/python3.8/site-packages (from scanpy) (0.9.2)\r\n",
      "Requirement already satisfied: get-annotations in /Users/fayzan/opt/anaconda3/envs/PGS/lib/python3.8/site-packages (from scanpy) (0.1.2)\r\n",
      "Requirement already satisfied: h5py>=3 in /Users/fayzan/opt/anaconda3/envs/PGS/lib/python3.8/site-packages (from scanpy) (3.11.0)\r\n",
      "Requirement already satisfied: joblib in /Users/fayzan/opt/anaconda3/envs/PGS/lib/python3.8/site-packages (from scanpy) (1.2.0)\r\n",
      "Requirement already satisfied: matplotlib>=3.6 in /Users/fayzan/opt/anaconda3/envs/PGS/lib/python3.8/site-packages (from scanpy) (3.7.1)\r\n",
      "Requirement already satisfied: natsort in /Users/fayzan/opt/anaconda3/envs/PGS/lib/python3.8/site-packages (from scanpy) (8.4.0)\r\n",
      "Requirement already satisfied: networkx>=2.3 in /Users/fayzan/opt/anaconda3/envs/PGS/lib/python3.8/site-packages (from scanpy) (3.1)\r\n",
      "Requirement already satisfied: numba>=0.41.0 in /Users/fayzan/opt/anaconda3/envs/PGS/lib/python3.8/site-packages (from scanpy) (0.53.0)\r\n",
      "Requirement already satisfied: numpy>=1.17.0 in /Users/fayzan/opt/anaconda3/envs/PGS/lib/python3.8/site-packages (from scanpy) (1.23.0)\r\n",
      "Requirement already satisfied: packaging in /Users/fayzan/opt/anaconda3/envs/PGS/lib/python3.8/site-packages (from scanpy) (23.1)\r\n",
      "Requirement already satisfied: pandas!=2.1.2,>=1.1.1 in /Users/fayzan/opt/anaconda3/envs/PGS/lib/python3.8/site-packages (from scanpy) (2.0.3)\r\n",
      "Requirement already satisfied: patsy in /Users/fayzan/opt/anaconda3/envs/PGS/lib/python3.8/site-packages (from scanpy) (0.5.6)\r\n",
      "Requirement already satisfied: scikit-learn>=0.24 in /Users/fayzan/opt/anaconda3/envs/PGS/lib/python3.8/site-packages (from scanpy) (1.2.2)\r\n",
      "Requirement already satisfied: scipy>=1.4 in /Users/fayzan/opt/anaconda3/envs/PGS/lib/python3.8/site-packages (from scanpy) (1.10.1)\r\n",
      "Requirement already satisfied: seaborn>=0.13.0 in /Users/fayzan/opt/anaconda3/envs/PGS/lib/python3.8/site-packages (from scanpy) (0.13.2)\r\n",
      "Requirement already satisfied: session-info in /Users/fayzan/opt/anaconda3/envs/PGS/lib/python3.8/site-packages (from scanpy) (1.0.0)\r\n",
      "Requirement already satisfied: statsmodels>=0.10.0rc2 in /Users/fayzan/opt/anaconda3/envs/PGS/lib/python3.8/site-packages (from scanpy) (0.14.1)\r\n",
      "Requirement already satisfied: tqdm in /Users/fayzan/opt/anaconda3/envs/PGS/lib/python3.8/site-packages (from scanpy) (4.65.0)\r\n",
      "Requirement already satisfied: umap-learn>=0.3.10 in /Users/fayzan/opt/anaconda3/envs/PGS/lib/python3.8/site-packages (from scanpy) (0.5.6)\r\n",
      "Requirement already satisfied: contourpy>=1.0.1 in /Users/fayzan/opt/anaconda3/envs/PGS/lib/python3.8/site-packages (from matplotlib>=3.6->scanpy) (1.0.7)\r\n",
      "Requirement already satisfied: cycler>=0.10 in /Users/fayzan/opt/anaconda3/envs/PGS/lib/python3.8/site-packages (from matplotlib>=3.6->scanpy) (0.11.0)\r\n",
      "Requirement already satisfied: fonttools>=4.22.0 in /Users/fayzan/opt/anaconda3/envs/PGS/lib/python3.8/site-packages (from matplotlib>=3.6->scanpy) (4.39.4)\r\n",
      "Requirement already satisfied: kiwisolver>=1.0.1 in /Users/fayzan/opt/anaconda3/envs/PGS/lib/python3.8/site-packages (from matplotlib>=3.6->scanpy) (1.4.4)\r\n",
      "Requirement already satisfied: pillow>=6.2.0 in /Users/fayzan/opt/anaconda3/envs/PGS/lib/python3.8/site-packages (from matplotlib>=3.6->scanpy) (9.5.0)\r\n",
      "Requirement already satisfied: pyparsing>=2.3.1 in /Users/fayzan/opt/anaconda3/envs/PGS/lib/python3.8/site-packages (from matplotlib>=3.6->scanpy) (3.0.9)\r\n",
      "Requirement already satisfied: python-dateutil>=2.7 in /Users/fayzan/opt/anaconda3/envs/PGS/lib/python3.8/site-packages (from matplotlib>=3.6->scanpy) (2.8.2)\r\n",
      "Requirement already satisfied: importlib-resources>=3.2.0 in /Users/fayzan/opt/anaconda3/envs/PGS/lib/python3.8/site-packages (from matplotlib>=3.6->scanpy) (5.12.0)\r\n",
      "Requirement already satisfied: llvmlite<0.37,>=0.36.0rc1 in /Users/fayzan/opt/anaconda3/envs/PGS/lib/python3.8/site-packages (from numba>=0.41.0->scanpy) (0.36.0)\r\n",
      "Requirement already satisfied: setuptools in /Users/fayzan/opt/anaconda3/envs/PGS/lib/python3.8/site-packages (from numba>=0.41.0->scanpy) (67.7.2)\r\n",
      "Requirement already satisfied: pytz>=2020.1 in /Users/fayzan/opt/anaconda3/envs/PGS/lib/python3.8/site-packages (from pandas!=2.1.2,>=1.1.1->scanpy) (2023.3)\r\n",
      "Requirement already satisfied: tzdata>=2022.1 in /Users/fayzan/opt/anaconda3/envs/PGS/lib/python3.8/site-packages (from pandas!=2.1.2,>=1.1.1->scanpy) (2023.3)\r\n",
      "Requirement already satisfied: threadpoolctl>=2.0.0 in /Users/fayzan/opt/anaconda3/envs/PGS/lib/python3.8/site-packages (from scikit-learn>=0.24->scanpy) (3.1.0)\r\n",
      "Requirement already satisfied: six in /Users/fayzan/opt/anaconda3/envs/PGS/lib/python3.8/site-packages (from patsy->scanpy) (1.16.0)\r\n",
      "Requirement already satisfied: pynndescent>=0.5 in /Users/fayzan/opt/anaconda3/envs/PGS/lib/python3.8/site-packages (from umap-learn>=0.3.10->scanpy) (0.5.12)\r\n",
      "Requirement already satisfied: stdlib-list in /Users/fayzan/opt/anaconda3/envs/PGS/lib/python3.8/site-packages (from session-info->scanpy) (0.10.0)\r\n",
      "Requirement already satisfied: zipp>=3.1.0 in /Users/fayzan/opt/anaconda3/envs/PGS/lib/python3.8/site-packages (from importlib-resources>=3.2.0->matplotlib>=3.6->scanpy) (3.15.0)\r\n",
      "Requirement already satisfied: loompy in /Users/fayzan/opt/anaconda3/envs/PGS/lib/python3.8/site-packages (3.0.7)\r\n",
      "Requirement already satisfied: h5py in /Users/fayzan/opt/anaconda3/envs/PGS/lib/python3.8/site-packages (from loompy) (3.11.0)\r\n",
      "Requirement already satisfied: numpy in /Users/fayzan/opt/anaconda3/envs/PGS/lib/python3.8/site-packages (from loompy) (1.23.0)\r\n",
      "Requirement already satisfied: scipy in /Users/fayzan/opt/anaconda3/envs/PGS/lib/python3.8/site-packages (from loompy) (1.10.1)\r\n",
      "Requirement already satisfied: setuptools in /Users/fayzan/opt/anaconda3/envs/PGS/lib/python3.8/site-packages (from loompy) (67.7.2)\r\n",
      "Requirement already satisfied: numba in /Users/fayzan/opt/anaconda3/envs/PGS/lib/python3.8/site-packages (from loompy) (0.53.0)\r\n",
      "Requirement already satisfied: click in /Users/fayzan/opt/anaconda3/envs/PGS/lib/python3.8/site-packages (from loompy) (8.1.7)\r\n",
      "Requirement already satisfied: numpy-groupies in /Users/fayzan/opt/anaconda3/envs/PGS/lib/python3.8/site-packages (from loompy) (0.9.22)\r\n",
      "Requirement already satisfied: llvmlite<0.37,>=0.36.0rc1 in /Users/fayzan/opt/anaconda3/envs/PGS/lib/python3.8/site-packages (from numba->loompy) (0.36.0)\r\n",
      "Collecting igraph\r\n",
      "  Downloading igraph-0.11.4-cp38-cp38-macosx_10_9_x86_64.whl (2.0 MB)\r\n",
      "\u001B[2K     \u001B[90m━━━━━━━━━━━━━━━━━━━━━━━━━━━━━━━━━━━━━━━━\u001B[0m \u001B[32m2.0/2.0 MB\u001B[0m \u001B[31m3.1 MB/s\u001B[0m eta \u001B[36m0:00:00\u001B[0m00:01\u001B[0m00:01\u001B[0m\r\n",
      "\u001B[?25hCollecting texttable>=1.6.2 (from igraph)\r\n",
      "  Downloading texttable-1.7.0-py2.py3-none-any.whl (10 kB)\r\n",
      "Installing collected packages: texttable, igraph\r\n",
      "Successfully installed igraph-0.11.4 texttable-1.7.0\r\n",
      "Requirement already satisfied: anndata in /Users/fayzan/opt/anaconda3/envs/PGS/lib/python3.8/site-packages (0.9.2)\r\n",
      "Requirement already satisfied: pandas!=2.0.1,>=1.1.1 in /Users/fayzan/opt/anaconda3/envs/PGS/lib/python3.8/site-packages (from anndata) (2.0.3)\r\n",
      "Requirement already satisfied: numpy>=1.16.5 in /Users/fayzan/opt/anaconda3/envs/PGS/lib/python3.8/site-packages (from anndata) (1.23.0)\r\n",
      "Requirement already satisfied: scipy>1.4 in /Users/fayzan/opt/anaconda3/envs/PGS/lib/python3.8/site-packages (from anndata) (1.10.1)\r\n",
      "Requirement already satisfied: h5py>=3 in /Users/fayzan/opt/anaconda3/envs/PGS/lib/python3.8/site-packages (from anndata) (3.11.0)\r\n",
      "Requirement already satisfied: natsort in /Users/fayzan/opt/anaconda3/envs/PGS/lib/python3.8/site-packages (from anndata) (8.4.0)\r\n",
      "Requirement already satisfied: packaging>=20 in /Users/fayzan/opt/anaconda3/envs/PGS/lib/python3.8/site-packages (from anndata) (23.1)\r\n",
      "Requirement already satisfied: python-dateutil>=2.8.2 in /Users/fayzan/opt/anaconda3/envs/PGS/lib/python3.8/site-packages (from pandas!=2.0.1,>=1.1.1->anndata) (2.8.2)\r\n",
      "Requirement already satisfied: pytz>=2020.1 in /Users/fayzan/opt/anaconda3/envs/PGS/lib/python3.8/site-packages (from pandas!=2.0.1,>=1.1.1->anndata) (2023.3)\r\n",
      "Requirement already satisfied: tzdata>=2022.1 in /Users/fayzan/opt/anaconda3/envs/PGS/lib/python3.8/site-packages (from pandas!=2.0.1,>=1.1.1->anndata) (2023.3)\r\n",
      "Requirement already satisfied: six>=1.5 in /Users/fayzan/opt/anaconda3/envs/PGS/lib/python3.8/site-packages (from python-dateutil>=2.8.2->pandas!=2.0.1,>=1.1.1->anndata) (1.16.0)\r\n"
     ]
    }
   ],
   "source": [
    "!pip install scanpy\n",
    "!pip install loompy\n",
    "!pip install igraph\n",
    "!pip install anndata"
   ],
   "metadata": {
    "collapsed": false
   }
  },
  {
   "cell_type": "code",
   "execution_count": 10,
   "outputs": [],
   "source": [
    "adata_WT1 = scv.read('/Users/fayzan/PycharmProjects/Betel/Aim2/SCVELO_Surv/GWT1.loom')\n",
    "adata_KO1 = scv.read('/Users/fayzan/PycharmProjects/Betel/Aim2/SCVELO_Surv/GKO1.loom')\n",
    "adata_WT2 = scv.read('/Users/fayzan/PycharmProjects/Betel/Aim2/SCVELO_Surv/GWT2.loom')\n",
    "adata_KO2 = scv.read('/Users/fayzan/PycharmProjects/Betel/Aim2/SCVELO_Surv/GKO2.loom')\n"
   ],
   "metadata": {
    "collapsed": false
   }
  },
  {
   "cell_type": "code",
   "execution_count": 11,
   "outputs": [],
   "source": [
    "#Merge all velocyto files and then subset the cells. Then merge info.\n",
    "adata_WT1.obs['newid'] = adata_WT1.obs.index\n",
    "adata_WT2.obs['newid'] = adata_WT2.obs.index\n",
    "adata_KO1.obs['newid'] = adata_KO1.obs.index\n",
    "adata_KO2.obs['newid'] = adata_KO2.obs.index"
   ],
   "metadata": {
    "collapsed": false
   }
  },
  {
   "cell_type": "code",
   "execution_count": 12,
   "outputs": [
    {
     "data": {
      "text/plain": "                        Clusters         _X         _Y                   newid\nCellID                                                                        \nGWT1:AAAGTGATCACCGACGx         1 -17.077444 -11.869936  GWT1:AAAGTGATCACCGACGx\nGWT1:AACAAAGTCGGAGTGAx         9  12.098558  16.949923  GWT1:AACAAAGTCGGAGTGAx\nGWT1:AAACGCTGTGTTCGATx         6  -4.913635 -31.655123  GWT1:AAACGCTGTGTTCGATx\nGWT1:AAAGTCCCAACGACAGx        10 -13.780383  30.208845  GWT1:AAAGTCCCAACGACAGx\nGWT1:AAAGTGAGTTCGAACTx         4  16.889030 -27.093758  GWT1:AAAGTGAGTTCGAACTx\n...                          ...        ...        ...                     ...\nGWT1:TTTGTTGGTCACTTAGx         0 -19.211367  18.296263  GWT1:TTTGTTGGTCACTTAGx\nGWT1:TTTGTTGTCTAAGCCAx         8  37.145710  -3.072067  GWT1:TTTGTTGTCTAAGCCAx\nGWT1:TTTGATCGTGCAATAAx         0 -37.280457   0.677654  GWT1:TTTGATCGTGCAATAAx\nGWT1:TTTGTTGGTATCACGTx         5  14.755345 -17.091719  GWT1:TTTGTTGGTATCACGTx\nGWT1:TTTGGTTTCAATGTCGx         6 -16.246649 -26.795799  GWT1:TTTGGTTTCAATGTCGx\n\n[7623 rows x 4 columns]",
      "text/html": "<div>\n<style scoped>\n    .dataframe tbody tr th:only-of-type {\n        vertical-align: middle;\n    }\n\n    .dataframe tbody tr th {\n        vertical-align: top;\n    }\n\n    .dataframe thead th {\n        text-align: right;\n    }\n</style>\n<table border=\"1\" class=\"dataframe\">\n  <thead>\n    <tr style=\"text-align: right;\">\n      <th></th>\n      <th>Clusters</th>\n      <th>_X</th>\n      <th>_Y</th>\n      <th>newid</th>\n    </tr>\n    <tr>\n      <th>CellID</th>\n      <th></th>\n      <th></th>\n      <th></th>\n      <th></th>\n    </tr>\n  </thead>\n  <tbody>\n    <tr>\n      <th>GWT1:AAAGTGATCACCGACGx</th>\n      <td>1</td>\n      <td>-17.077444</td>\n      <td>-11.869936</td>\n      <td>GWT1:AAAGTGATCACCGACGx</td>\n    </tr>\n    <tr>\n      <th>GWT1:AACAAAGTCGGAGTGAx</th>\n      <td>9</td>\n      <td>12.098558</td>\n      <td>16.949923</td>\n      <td>GWT1:AACAAAGTCGGAGTGAx</td>\n    </tr>\n    <tr>\n      <th>GWT1:AAACGCTGTGTTCGATx</th>\n      <td>6</td>\n      <td>-4.913635</td>\n      <td>-31.655123</td>\n      <td>GWT1:AAACGCTGTGTTCGATx</td>\n    </tr>\n    <tr>\n      <th>GWT1:AAAGTCCCAACGACAGx</th>\n      <td>10</td>\n      <td>-13.780383</td>\n      <td>30.208845</td>\n      <td>GWT1:AAAGTCCCAACGACAGx</td>\n    </tr>\n    <tr>\n      <th>GWT1:AAAGTGAGTTCGAACTx</th>\n      <td>4</td>\n      <td>16.889030</td>\n      <td>-27.093758</td>\n      <td>GWT1:AAAGTGAGTTCGAACTx</td>\n    </tr>\n    <tr>\n      <th>...</th>\n      <td>...</td>\n      <td>...</td>\n      <td>...</td>\n      <td>...</td>\n    </tr>\n    <tr>\n      <th>GWT1:TTTGTTGGTCACTTAGx</th>\n      <td>0</td>\n      <td>-19.211367</td>\n      <td>18.296263</td>\n      <td>GWT1:TTTGTTGGTCACTTAGx</td>\n    </tr>\n    <tr>\n      <th>GWT1:TTTGTTGTCTAAGCCAx</th>\n      <td>8</td>\n      <td>37.145710</td>\n      <td>-3.072067</td>\n      <td>GWT1:TTTGTTGTCTAAGCCAx</td>\n    </tr>\n    <tr>\n      <th>GWT1:TTTGATCGTGCAATAAx</th>\n      <td>0</td>\n      <td>-37.280457</td>\n      <td>0.677654</td>\n      <td>GWT1:TTTGATCGTGCAATAAx</td>\n    </tr>\n    <tr>\n      <th>GWT1:TTTGTTGGTATCACGTx</th>\n      <td>5</td>\n      <td>14.755345</td>\n      <td>-17.091719</td>\n      <td>GWT1:TTTGTTGGTATCACGTx</td>\n    </tr>\n    <tr>\n      <th>GWT1:TTTGGTTTCAATGTCGx</th>\n      <td>6</td>\n      <td>-16.246649</td>\n      <td>-26.795799</td>\n      <td>GWT1:TTTGGTTTCAATGTCGx</td>\n    </tr>\n  </tbody>\n</table>\n<p>7623 rows × 4 columns</p>\n</div>"
     },
     "execution_count": 12,
     "metadata": {},
     "output_type": "execute_result"
    }
   ],
   "source": [
    "adata_WT1.obs\n"
   ],
   "metadata": {
    "collapsed": false
   }
  },
  {
   "cell_type": "code",
   "execution_count": 13,
   "outputs": [],
   "source": [
    "adata_WT1.obs['newid'] = adata_WT1.obs['newid'].str.replace(r'^.*?:', '',regex=True)\n",
    "adata_WT2.obs['newid'] = adata_WT2.obs['newid'].str.replace(r'^.*?:', '',regex=True)\n",
    "adata_KO1.obs['newid'] = adata_KO1.obs['newid'].str.replace(r'^.*?:', '',regex=True)\n",
    "adata_KO2.obs['newid'] = adata_KO2.obs['newid'].str.replace(r'^.*?:', '',regex=True)"
   ],
   "metadata": {
    "collapsed": false
   }
  },
  {
   "cell_type": "code",
   "execution_count": 14,
   "outputs": [
    {
     "data": {
      "text/plain": "                        Clusters         _X         _Y               newid\nCellID                                                                    \nGWT1:AAAGTGATCACCGACGx         1 -17.077444 -11.869936  AAAGTGATCACCGACG-1\nGWT1:AACAAAGTCGGAGTGAx         9  12.098558  16.949923  AACAAAGTCGGAGTGA-1\nGWT1:AAACGCTGTGTTCGATx         6  -4.913635 -31.655123  AAACGCTGTGTTCGAT-1\nGWT1:AAAGTCCCAACGACAGx        10 -13.780383  30.208845  AAAGTCCCAACGACAG-1\nGWT1:AAAGTGAGTTCGAACTx         4  16.889030 -27.093758  AAAGTGAGTTCGAACT-1\n...                          ...        ...        ...                 ...\nGWT1:TTTGTTGGTCACTTAGx         0 -19.211367  18.296263  TTTGTTGGTCACTTAG-1\nGWT1:TTTGTTGTCTAAGCCAx         8  37.145710  -3.072067  TTTGTTGTCTAAGCCA-1\nGWT1:TTTGATCGTGCAATAAx         0 -37.280457   0.677654  TTTGATCGTGCAATAA-1\nGWT1:TTTGTTGGTATCACGTx         5  14.755345 -17.091719  TTTGTTGGTATCACGT-1\nGWT1:TTTGGTTTCAATGTCGx         6 -16.246649 -26.795799  TTTGGTTTCAATGTCG-1\n\n[7623 rows x 4 columns]",
      "text/html": "<div>\n<style scoped>\n    .dataframe tbody tr th:only-of-type {\n        vertical-align: middle;\n    }\n\n    .dataframe tbody tr th {\n        vertical-align: top;\n    }\n\n    .dataframe thead th {\n        text-align: right;\n    }\n</style>\n<table border=\"1\" class=\"dataframe\">\n  <thead>\n    <tr style=\"text-align: right;\">\n      <th></th>\n      <th>Clusters</th>\n      <th>_X</th>\n      <th>_Y</th>\n      <th>newid</th>\n    </tr>\n    <tr>\n      <th>CellID</th>\n      <th></th>\n      <th></th>\n      <th></th>\n      <th></th>\n    </tr>\n  </thead>\n  <tbody>\n    <tr>\n      <th>GWT1:AAAGTGATCACCGACGx</th>\n      <td>1</td>\n      <td>-17.077444</td>\n      <td>-11.869936</td>\n      <td>AAAGTGATCACCGACG-1</td>\n    </tr>\n    <tr>\n      <th>GWT1:AACAAAGTCGGAGTGAx</th>\n      <td>9</td>\n      <td>12.098558</td>\n      <td>16.949923</td>\n      <td>AACAAAGTCGGAGTGA-1</td>\n    </tr>\n    <tr>\n      <th>GWT1:AAACGCTGTGTTCGATx</th>\n      <td>6</td>\n      <td>-4.913635</td>\n      <td>-31.655123</td>\n      <td>AAACGCTGTGTTCGAT-1</td>\n    </tr>\n    <tr>\n      <th>GWT1:AAAGTCCCAACGACAGx</th>\n      <td>10</td>\n      <td>-13.780383</td>\n      <td>30.208845</td>\n      <td>AAAGTCCCAACGACAG-1</td>\n    </tr>\n    <tr>\n      <th>GWT1:AAAGTGAGTTCGAACTx</th>\n      <td>4</td>\n      <td>16.889030</td>\n      <td>-27.093758</td>\n      <td>AAAGTGAGTTCGAACT-1</td>\n    </tr>\n    <tr>\n      <th>...</th>\n      <td>...</td>\n      <td>...</td>\n      <td>...</td>\n      <td>...</td>\n    </tr>\n    <tr>\n      <th>GWT1:TTTGTTGGTCACTTAGx</th>\n      <td>0</td>\n      <td>-19.211367</td>\n      <td>18.296263</td>\n      <td>TTTGTTGGTCACTTAG-1</td>\n    </tr>\n    <tr>\n      <th>GWT1:TTTGTTGTCTAAGCCAx</th>\n      <td>8</td>\n      <td>37.145710</td>\n      <td>-3.072067</td>\n      <td>TTTGTTGTCTAAGCCA-1</td>\n    </tr>\n    <tr>\n      <th>GWT1:TTTGATCGTGCAATAAx</th>\n      <td>0</td>\n      <td>-37.280457</td>\n      <td>0.677654</td>\n      <td>TTTGATCGTGCAATAA-1</td>\n    </tr>\n    <tr>\n      <th>GWT1:TTTGTTGGTATCACGTx</th>\n      <td>5</td>\n      <td>14.755345</td>\n      <td>-17.091719</td>\n      <td>TTTGTTGGTATCACGT-1</td>\n    </tr>\n    <tr>\n      <th>GWT1:TTTGGTTTCAATGTCGx</th>\n      <td>6</td>\n      <td>-16.246649</td>\n      <td>-26.795799</td>\n      <td>TTTGGTTTCAATGTCG-1</td>\n    </tr>\n  </tbody>\n</table>\n<p>7623 rows × 4 columns</p>\n</div>"
     },
     "execution_count": 14,
     "metadata": {},
     "output_type": "execute_result"
    }
   ],
   "source": [
    "adata_WT1.obs['newid'] = adata_WT1.obs['newid'].str.replace(r'.$', '-1',regex=True)\n",
    "adata_WT2.obs['newid'] = adata_WT2.obs['newid'].str.replace(r'.$', '-1',regex=True)\n",
    "adata_KO1.obs['newid'] = adata_KO1.obs['newid'].str.replace(r'.$', '-1',regex=True)\n",
    "adata_KO2.obs['newid'] = adata_KO2.obs['newid'].str.replace(r'.$', '-1',regex=True)\n",
    "adata_WT1.obs"
   ],
   "metadata": {
    "collapsed": false
   }
  },
  {
   "cell_type": "code",
   "execution_count": 15,
   "outputs": [],
   "source": [
    "sample_obs = pd.read_csv(\"/Users/fayzan/PycharmProjects/Betel/Aim2/SCVELO_Surv/cellID_obsunique.csv\")\n",
    "sample_obs_all = pd.read_csv(\"/Users/fayzan/PycharmProjects/Betel/Aim2/SCVELO_Surv/cellID_obsnotunique.csv\")\n",
    "umap_cord = pd.read_csv(\"/Users/fayzan/PycharmProjects/Betel/Aim2/SCVELO_Surv/cell_embeddings.csv\")\n",
    "cell_clusters = pd.read_csv(\"/Users/fayzan/PycharmProjects/Betel/Aim2/SCVELO_Surv/clusters.csv\")"
   ],
   "metadata": {
    "collapsed": false
   }
  },
  {
   "cell_type": "code",
   "execution_count": 16,
   "outputs": [
    {
     "data": {
      "text/plain": "0        AAACCCAAGCCATTTG-1\n1        AAACCCAAGCGACCCT-1\n2        AAACCCAAGCTACAAA-1\n3        AAACCCAAGGAGGTTC-1\n4        AAACCCAAGGTAAGTT-1\n                ...        \n43247    TTTGTTGGTTCAAGTC-1\n43248    TTTGTTGTCCCAGCGA-1\n43249    TTTGTTGTCGCGTTTC-1\n43250    TTTGTTGTCTAGCCAA-1\n43251    TTTGTTGTCTGTAACG-1\nName: x, Length: 43252, dtype: object"
     },
     "execution_count": 16,
     "metadata": {},
     "output_type": "execute_result"
    }
   ],
   "source": [
    "sample_obs[\"x\"]"
   ],
   "metadata": {
    "collapsed": false
   }
  },
  {
   "cell_type": "code",
   "execution_count": 17,
   "outputs": [],
   "source": [
    "#Take Unique Cells\n",
    "adata_WT1 = adata_WT1[np.isin(adata_WT1.obs.newid, sample_obs[\"x\"])]\n",
    "adata_KO1 = adata_KO1[np.isin(adata_KO1.obs.newid, sample_obs[\"x\"])]\n",
    "adata_WT2 = adata_WT2[np.isin(adata_WT2.obs.newid, sample_obs[\"x\"])]\n",
    "adata_KO2 = adata_KO2[np.isin(adata_KO2.obs.newid, sample_obs[\"x\"])]\n"
   ],
   "metadata": {
    "collapsed": false
   }
  },
  {
   "cell_type": "code",
   "execution_count": 17,
   "outputs": [],
   "source": [
    "\n",
    "\n",
    "\n"
   ],
   "metadata": {
    "collapsed": false
   }
  },
  {
   "cell_type": "code",
   "execution_count": 18,
   "outputs": [],
   "source": [
    "adata_WT1.var_names_make_unique()\n",
    "adata_WT2.var_names_make_unique()\n",
    "adata_KO1.var_names_make_unique()\n",
    "adata_KO2.var_names_make_unique()"
   ],
   "metadata": {
    "collapsed": false
   }
  },
  {
   "cell_type": "code",
   "execution_count": 19,
   "outputs": [],
   "source": [
    "invitro_all = adata_WT1.concatenate(adata_KO2, adata_WT2,adata_KO1)"
   ],
   "metadata": {
    "collapsed": false
   }
  },
  {
   "cell_type": "code",
   "execution_count": 20,
   "outputs": [],
   "source": [
    "invitro_all.obs['newid1']=invitro_all.obs['newid']\n",
    "invitro_all.obs['newid1'].loc[~invitro_all.obs['newid'].duplicated(keep='first')]=''"
   ],
   "metadata": {
    "collapsed": false
   }
  },
  {
   "cell_type": "code",
   "execution_count": 21,
   "outputs": [
    {
     "data": {
      "text/plain": "                          Clusters         _X         _Y               newid  \\\nCellID                                                                         \nGWT1:AAAGTGATCACCGACGx-0         1 -17.077444 -11.869936  AAAGTGATCACCGACG-1   \nGWT1:AACAAAGTCGGAGTGAx-0         9  12.098558  16.949923  AACAAAGTCGGAGTGA-1   \nGWT1:AAACGCTGTGTTCGATx-0         6  -4.913635 -31.655123  AAACGCTGTGTTCGAT-1   \nGWT1:AAAGTCCCAACGACAGx-0        10 -13.780383  30.208845  AAAGTCCCAACGACAG-1   \nGWT1:AAAGTGAGTTCGAACTx-0         4  16.889030 -27.093758  AAAGTGAGTTCGAACT-1   \n...                            ...        ...        ...                 ...   \nGKO1:TTTGTTGCAGCAGATGx-3        11  17.495062  40.408279  TTTGTTGCAGCAGATG-1   \nGKO1:TTTGGAGAGGAAGTAGx-3         8   9.889330  26.435860  TTTGGAGAGGAAGTAG-1   \nGKO1:TTTGACTGTCGTACTAx-3         1 -21.976715  -2.905352  TTTGACTGTCGTACTA-1   \nGKO1:TTTGGAGTCCTTACCGx-3         8  42.646080  10.316961  TTTGGAGTCCTTACCG-1   \nGKO1:TTTGGTTGTCTCACAAx-3         0 -25.150513 -11.142797  TTTGGTTGTCTCACAA-1   \n\n                         batch newid1  \nCellID                                 \nGWT1:AAAGTGATCACCGACGx-0     0         \nGWT1:AACAAAGTCGGAGTGAx-0     0         \nGWT1:AAACGCTGTGTTCGATx-0     0         \nGWT1:AAAGTCCCAACGACAGx-0     0         \nGWT1:AAAGTGAGTTCGAACTx-0     0         \n...                        ...    ...  \nGKO1:TTTGTTGCAGCAGATGx-3     3         \nGKO1:TTTGGAGAGGAAGTAGx-3     3         \nGKO1:TTTGACTGTCGTACTAx-3     3         \nGKO1:TTTGGAGTCCTTACCGx-3     3         \nGKO1:TTTGGTTGTCTCACAAx-3     3         \n\n[43438 rows x 6 columns]",
      "text/html": "<div>\n<style scoped>\n    .dataframe tbody tr th:only-of-type {\n        vertical-align: middle;\n    }\n\n    .dataframe tbody tr th {\n        vertical-align: top;\n    }\n\n    .dataframe thead th {\n        text-align: right;\n    }\n</style>\n<table border=\"1\" class=\"dataframe\">\n  <thead>\n    <tr style=\"text-align: right;\">\n      <th></th>\n      <th>Clusters</th>\n      <th>_X</th>\n      <th>_Y</th>\n      <th>newid</th>\n      <th>batch</th>\n      <th>newid1</th>\n    </tr>\n    <tr>\n      <th>CellID</th>\n      <th></th>\n      <th></th>\n      <th></th>\n      <th></th>\n      <th></th>\n      <th></th>\n    </tr>\n  </thead>\n  <tbody>\n    <tr>\n      <th>GWT1:AAAGTGATCACCGACGx-0</th>\n      <td>1</td>\n      <td>-17.077444</td>\n      <td>-11.869936</td>\n      <td>AAAGTGATCACCGACG-1</td>\n      <td>0</td>\n      <td></td>\n    </tr>\n    <tr>\n      <th>GWT1:AACAAAGTCGGAGTGAx-0</th>\n      <td>9</td>\n      <td>12.098558</td>\n      <td>16.949923</td>\n      <td>AACAAAGTCGGAGTGA-1</td>\n      <td>0</td>\n      <td></td>\n    </tr>\n    <tr>\n      <th>GWT1:AAACGCTGTGTTCGATx-0</th>\n      <td>6</td>\n      <td>-4.913635</td>\n      <td>-31.655123</td>\n      <td>AAACGCTGTGTTCGAT-1</td>\n      <td>0</td>\n      <td></td>\n    </tr>\n    <tr>\n      <th>GWT1:AAAGTCCCAACGACAGx-0</th>\n      <td>10</td>\n      <td>-13.780383</td>\n      <td>30.208845</td>\n      <td>AAAGTCCCAACGACAG-1</td>\n      <td>0</td>\n      <td></td>\n    </tr>\n    <tr>\n      <th>GWT1:AAAGTGAGTTCGAACTx-0</th>\n      <td>4</td>\n      <td>16.889030</td>\n      <td>-27.093758</td>\n      <td>AAAGTGAGTTCGAACT-1</td>\n      <td>0</td>\n      <td></td>\n    </tr>\n    <tr>\n      <th>...</th>\n      <td>...</td>\n      <td>...</td>\n      <td>...</td>\n      <td>...</td>\n      <td>...</td>\n      <td>...</td>\n    </tr>\n    <tr>\n      <th>GKO1:TTTGTTGCAGCAGATGx-3</th>\n      <td>11</td>\n      <td>17.495062</td>\n      <td>40.408279</td>\n      <td>TTTGTTGCAGCAGATG-1</td>\n      <td>3</td>\n      <td></td>\n    </tr>\n    <tr>\n      <th>GKO1:TTTGGAGAGGAAGTAGx-3</th>\n      <td>8</td>\n      <td>9.889330</td>\n      <td>26.435860</td>\n      <td>TTTGGAGAGGAAGTAG-1</td>\n      <td>3</td>\n      <td></td>\n    </tr>\n    <tr>\n      <th>GKO1:TTTGACTGTCGTACTAx-3</th>\n      <td>1</td>\n      <td>-21.976715</td>\n      <td>-2.905352</td>\n      <td>TTTGACTGTCGTACTA-1</td>\n      <td>3</td>\n      <td></td>\n    </tr>\n    <tr>\n      <th>GKO1:TTTGGAGTCCTTACCGx-3</th>\n      <td>8</td>\n      <td>42.646080</td>\n      <td>10.316961</td>\n      <td>TTTGGAGTCCTTACCG-1</td>\n      <td>3</td>\n      <td></td>\n    </tr>\n    <tr>\n      <th>GKO1:TTTGGTTGTCTCACAAx-3</th>\n      <td>0</td>\n      <td>-25.150513</td>\n      <td>-11.142797</td>\n      <td>TTTGGTTGTCTCACAA-1</td>\n      <td>3</td>\n      <td></td>\n    </tr>\n  </tbody>\n</table>\n<p>43438 rows × 6 columns</p>\n</div>"
     },
     "execution_count": 21,
     "metadata": {},
     "output_type": "execute_result"
    }
   ],
   "source": [
    "invitro_all.obs"
   ],
   "metadata": {
    "collapsed": false
   }
  },
  {
   "cell_type": "code",
   "execution_count": 22,
   "outputs": [],
   "source": [
    "invitro_all3 =  invitro_all[invitro_all.obs.newid1 == \"\"]"
   ],
   "metadata": {
    "collapsed": false
   }
  },
  {
   "cell_type": "code",
   "execution_count": 23,
   "outputs": [
    {
     "data": {
      "text/plain": "View of AnnData object with n_obs × n_vars = 43244 × 36601\n    obs: 'Clusters', '_X', '_Y', 'newid', 'batch', 'newid1'\n    var: 'Accession', 'Chromosome', 'End', 'Start', 'Strand'\n    layers: 'matrix', 'ambiguous', 'spliced', 'unspliced'"
     },
     "execution_count": 23,
     "metadata": {},
     "output_type": "execute_result"
    }
   ],
   "source": [
    "invitro_all3"
   ],
   "metadata": {
    "collapsed": false
   }
  },
  {
   "cell_type": "code",
   "execution_count": 24,
   "outputs": [
    {
     "data": {
      "text/plain": "                          Clusters         _X         _Y               newid  \\\nCellID                                                                         \nGWT1:AAAGTGATCACCGACGx-0         1 -17.077444 -11.869936  AAAGTGATCACCGACG-1   \nGWT1:AACAAAGTCGGAGTGAx-0         9  12.098558  16.949923  AACAAAGTCGGAGTGA-1   \nGWT1:AAACGCTGTGTTCGATx-0         6  -4.913635 -31.655123  AAACGCTGTGTTCGAT-1   \nGWT1:AAAGTCCCAACGACAGx-0        10 -13.780383  30.208845  AAAGTCCCAACGACAG-1   \nGWT1:AAAGTGAGTTCGAACTx-0         4  16.889030 -27.093758  AAAGTGAGTTCGAACT-1   \n...                            ...        ...        ...                 ...   \nGKO1:TTTGTTGCAGCAGATGx-3        11  17.495062  40.408279  TTTGTTGCAGCAGATG-1   \nGKO1:TTTGGAGAGGAAGTAGx-3         8   9.889330  26.435860  TTTGGAGAGGAAGTAG-1   \nGKO1:TTTGACTGTCGTACTAx-3         1 -21.976715  -2.905352  TTTGACTGTCGTACTA-1   \nGKO1:TTTGGAGTCCTTACCGx-3         8  42.646080  10.316961  TTTGGAGTCCTTACCG-1   \nGKO1:TTTGGTTGTCTCACAAx-3         0 -25.150513 -11.142797  TTTGGTTGTCTCACAA-1   \n\n                         batch newid1  \nCellID                                 \nGWT1:AAAGTGATCACCGACGx-0     0         \nGWT1:AACAAAGTCGGAGTGAx-0     0         \nGWT1:AAACGCTGTGTTCGATx-0     0         \nGWT1:AAAGTCCCAACGACAGx-0     0         \nGWT1:AAAGTGAGTTCGAACTx-0     0         \n...                        ...    ...  \nGKO1:TTTGTTGCAGCAGATGx-3     3         \nGKO1:TTTGGAGAGGAAGTAGx-3     3         \nGKO1:TTTGACTGTCGTACTAx-3     3         \nGKO1:TTTGGAGTCCTTACCGx-3     3         \nGKO1:TTTGGTTGTCTCACAAx-3     3         \n\n[43244 rows x 6 columns]",
      "text/html": "<div>\n<style scoped>\n    .dataframe tbody tr th:only-of-type {\n        vertical-align: middle;\n    }\n\n    .dataframe tbody tr th {\n        vertical-align: top;\n    }\n\n    .dataframe thead th {\n        text-align: right;\n    }\n</style>\n<table border=\"1\" class=\"dataframe\">\n  <thead>\n    <tr style=\"text-align: right;\">\n      <th></th>\n      <th>Clusters</th>\n      <th>_X</th>\n      <th>_Y</th>\n      <th>newid</th>\n      <th>batch</th>\n      <th>newid1</th>\n    </tr>\n    <tr>\n      <th>CellID</th>\n      <th></th>\n      <th></th>\n      <th></th>\n      <th></th>\n      <th></th>\n      <th></th>\n    </tr>\n  </thead>\n  <tbody>\n    <tr>\n      <th>GWT1:AAAGTGATCACCGACGx-0</th>\n      <td>1</td>\n      <td>-17.077444</td>\n      <td>-11.869936</td>\n      <td>AAAGTGATCACCGACG-1</td>\n      <td>0</td>\n      <td></td>\n    </tr>\n    <tr>\n      <th>GWT1:AACAAAGTCGGAGTGAx-0</th>\n      <td>9</td>\n      <td>12.098558</td>\n      <td>16.949923</td>\n      <td>AACAAAGTCGGAGTGA-1</td>\n      <td>0</td>\n      <td></td>\n    </tr>\n    <tr>\n      <th>GWT1:AAACGCTGTGTTCGATx-0</th>\n      <td>6</td>\n      <td>-4.913635</td>\n      <td>-31.655123</td>\n      <td>AAACGCTGTGTTCGAT-1</td>\n      <td>0</td>\n      <td></td>\n    </tr>\n    <tr>\n      <th>GWT1:AAAGTCCCAACGACAGx-0</th>\n      <td>10</td>\n      <td>-13.780383</td>\n      <td>30.208845</td>\n      <td>AAAGTCCCAACGACAG-1</td>\n      <td>0</td>\n      <td></td>\n    </tr>\n    <tr>\n      <th>GWT1:AAAGTGAGTTCGAACTx-0</th>\n      <td>4</td>\n      <td>16.889030</td>\n      <td>-27.093758</td>\n      <td>AAAGTGAGTTCGAACT-1</td>\n      <td>0</td>\n      <td></td>\n    </tr>\n    <tr>\n      <th>...</th>\n      <td>...</td>\n      <td>...</td>\n      <td>...</td>\n      <td>...</td>\n      <td>...</td>\n      <td>...</td>\n    </tr>\n    <tr>\n      <th>GKO1:TTTGTTGCAGCAGATGx-3</th>\n      <td>11</td>\n      <td>17.495062</td>\n      <td>40.408279</td>\n      <td>TTTGTTGCAGCAGATG-1</td>\n      <td>3</td>\n      <td></td>\n    </tr>\n    <tr>\n      <th>GKO1:TTTGGAGAGGAAGTAGx-3</th>\n      <td>8</td>\n      <td>9.889330</td>\n      <td>26.435860</td>\n      <td>TTTGGAGAGGAAGTAG-1</td>\n      <td>3</td>\n      <td></td>\n    </tr>\n    <tr>\n      <th>GKO1:TTTGACTGTCGTACTAx-3</th>\n      <td>1</td>\n      <td>-21.976715</td>\n      <td>-2.905352</td>\n      <td>TTTGACTGTCGTACTA-1</td>\n      <td>3</td>\n      <td></td>\n    </tr>\n    <tr>\n      <th>GKO1:TTTGGAGTCCTTACCGx-3</th>\n      <td>8</td>\n      <td>42.646080</td>\n      <td>10.316961</td>\n      <td>TTTGGAGTCCTTACCG-1</td>\n      <td>3</td>\n      <td></td>\n    </tr>\n    <tr>\n      <th>GKO1:TTTGGTTGTCTCACAAx-3</th>\n      <td>0</td>\n      <td>-25.150513</td>\n      <td>-11.142797</td>\n      <td>TTTGGTTGTCTCACAA-1</td>\n      <td>3</td>\n      <td></td>\n    </tr>\n  </tbody>\n</table>\n<p>43244 rows × 6 columns</p>\n</div>"
     },
     "execution_count": 24,
     "metadata": {},
     "output_type": "execute_result"
    }
   ],
   "source": [
    "invitro_all3.obs"
   ],
   "metadata": {
    "collapsed": false
   }
  },
  {
   "cell_type": "code",
   "execution_count": 25,
   "outputs": [
    {
     "data": {
      "text/plain": "               Unnamed: 0    UMAP_1    UMAP_2\n0      AAACCCAAGCCATTTG-1  4.506885 -1.428377\n1      AAACCCAAGCGACCCT-1  0.658285 -0.615243\n2      AAACCCAAGCTACAAA-1  3.812819 -1.517525\n3      AAACCCAAGGAGGTTC-1  1.731572  2.718117\n4      AAACCCAAGGTAAGTT-1 -1.495209  0.777464\n...                   ...       ...       ...\n43431  TTTGTTGGTTCAAGTC-1  0.783719 -5.733409\n43432  TTTGTTGTCCCAGCGA-1  1.029591 -3.637614\n43433  TTTGTTGTCGCGTTTC-1  2.494064 -0.962188\n43434  TTTGTTGTCTAGCCAA-1 -0.310459 -5.098460\n43435  TTTGTTGTCTGTAACG-1 -4.914391  4.771186\n\n[43252 rows x 3 columns]",
      "text/html": "<div>\n<style scoped>\n    .dataframe tbody tr th:only-of-type {\n        vertical-align: middle;\n    }\n\n    .dataframe tbody tr th {\n        vertical-align: top;\n    }\n\n    .dataframe thead th {\n        text-align: right;\n    }\n</style>\n<table border=\"1\" class=\"dataframe\">\n  <thead>\n    <tr style=\"text-align: right;\">\n      <th></th>\n      <th>Unnamed: 0</th>\n      <th>UMAP_1</th>\n      <th>UMAP_2</th>\n    </tr>\n  </thead>\n  <tbody>\n    <tr>\n      <th>0</th>\n      <td>AAACCCAAGCCATTTG-1</td>\n      <td>4.506885</td>\n      <td>-1.428377</td>\n    </tr>\n    <tr>\n      <th>1</th>\n      <td>AAACCCAAGCGACCCT-1</td>\n      <td>0.658285</td>\n      <td>-0.615243</td>\n    </tr>\n    <tr>\n      <th>2</th>\n      <td>AAACCCAAGCTACAAA-1</td>\n      <td>3.812819</td>\n      <td>-1.517525</td>\n    </tr>\n    <tr>\n      <th>3</th>\n      <td>AAACCCAAGGAGGTTC-1</td>\n      <td>1.731572</td>\n      <td>2.718117</td>\n    </tr>\n    <tr>\n      <th>4</th>\n      <td>AAACCCAAGGTAAGTT-1</td>\n      <td>-1.495209</td>\n      <td>0.777464</td>\n    </tr>\n    <tr>\n      <th>...</th>\n      <td>...</td>\n      <td>...</td>\n      <td>...</td>\n    </tr>\n    <tr>\n      <th>43431</th>\n      <td>TTTGTTGGTTCAAGTC-1</td>\n      <td>0.783719</td>\n      <td>-5.733409</td>\n    </tr>\n    <tr>\n      <th>43432</th>\n      <td>TTTGTTGTCCCAGCGA-1</td>\n      <td>1.029591</td>\n      <td>-3.637614</td>\n    </tr>\n    <tr>\n      <th>43433</th>\n      <td>TTTGTTGTCGCGTTTC-1</td>\n      <td>2.494064</td>\n      <td>-0.962188</td>\n    </tr>\n    <tr>\n      <th>43434</th>\n      <td>TTTGTTGTCTAGCCAA-1</td>\n      <td>-0.310459</td>\n      <td>-5.098460</td>\n    </tr>\n    <tr>\n      <th>43435</th>\n      <td>TTTGTTGTCTGTAACG-1</td>\n      <td>-4.914391</td>\n      <td>4.771186</td>\n    </tr>\n  </tbody>\n</table>\n<p>43252 rows × 3 columns</p>\n</div>"
     },
     "execution_count": 25,
     "metadata": {},
     "output_type": "execute_result"
    }
   ],
   "source": [
    "umap_cord['Unnamed: 0'] = sample_obs_all[\"x\"]\n",
    "umap_cord = umap_cord.drop_duplicates(['Unnamed: 0'])\n",
    "umap_cord"
   ],
   "metadata": {
    "collapsed": false
   }
  },
  {
   "cell_type": "code",
   "execution_count": 26,
   "outputs": [],
   "source": [
    "cell_clusters['Unnamed: 0'] = sample_obs_all[\"x\"]\n",
    "cell_clusters = cell_clusters.drop_duplicates(['Unnamed: 0'])"
   ],
   "metadata": {
    "collapsed": false
   }
  },
  {
   "cell_type": "code",
   "execution_count": 27,
   "outputs": [],
   "source": [
    "combined = cell_clusters.merge(umap_cord, on=\"Unnamed: 0\")"
   ],
   "metadata": {
    "collapsed": false
   }
  },
  {
   "cell_type": "code",
   "execution_count": 28,
   "outputs": [],
   "source": [
    "invitro_all3.obs['CellID1'] = invitro_all3.obs.index\n",
    "invitro_all3.obs = invitro_all3.obs.merge(combined,left_on=\"newid\", right_on=\"Unnamed: 0\", how=\"left\")"
   ],
   "metadata": {
    "collapsed": false
   }
  },
  {
   "cell_type": "code",
   "execution_count": 29,
   "outputs": [
    {
     "data": {
      "text/plain": "                          Clusters         _X         _Y               newid  \\\nCellID                                                                         \nGWT1:AAAGTGATCACCGACGx-0         1 -17.077444 -11.869936  AAAGTGATCACCGACG-1   \nGWT1:AACAAAGTCGGAGTGAx-0         9  12.098558  16.949923  AACAAAGTCGGAGTGA-1   \nGWT1:AAACGCTGTGTTCGATx-0         6  -4.913635 -31.655123  AAACGCTGTGTTCGAT-1   \nGWT1:AAAGTCCCAACGACAGx-0        10 -13.780383  30.208845  AAAGTCCCAACGACAG-1   \nGWT1:AAAGTGAGTTCGAACTx-0         4  16.889030 -27.093758  AAAGTGAGTTCGAACT-1   \n...                            ...        ...        ...                 ...   \nGKO1:TTTGTTGCAGCAGATGx-3        11  17.495062  40.408279  TTTGTTGCAGCAGATG-1   \nGKO1:TTTGGAGAGGAAGTAGx-3         8   9.889330  26.435860  TTTGGAGAGGAAGTAG-1   \nGKO1:TTTGACTGTCGTACTAx-3         1 -21.976715  -2.905352  TTTGACTGTCGTACTA-1   \nGKO1:TTTGGAGTCCTTACCGx-3         8  42.646080  10.316961  TTTGGAGTCCTTACCG-1   \nGKO1:TTTGGTTGTCTCACAAx-3         0 -25.150513 -11.142797  TTTGGTTGTCTCACAA-1   \n\n                         batch newid1                   CellID1  \\\nCellID                                                            \nGWT1:AAAGTGATCACCGACGx-0     0         GWT1:AAAGTGATCACCGACGx-0   \nGWT1:AACAAAGTCGGAGTGAx-0     0         GWT1:AACAAAGTCGGAGTGAx-0   \nGWT1:AAACGCTGTGTTCGATx-0     0         GWT1:AAACGCTGTGTTCGATx-0   \nGWT1:AAAGTCCCAACGACAGx-0     0         GWT1:AAAGTCCCAACGACAGx-0   \nGWT1:AAAGTGAGTTCGAACTx-0     0         GWT1:AAAGTGAGTTCGAACTx-0   \n...                        ...    ...                       ...   \nGKO1:TTTGTTGCAGCAGATGx-3     3         GKO1:TTTGTTGCAGCAGATGx-3   \nGKO1:TTTGGAGAGGAAGTAGx-3     3         GKO1:TTTGGAGAGGAAGTAGx-3   \nGKO1:TTTGACTGTCGTACTAx-3     3         GKO1:TTTGACTGTCGTACTAx-3   \nGKO1:TTTGGAGTCCTTACCGx-3     3         GKO1:TTTGGAGTCCTTACCGx-3   \nGKO1:TTTGGTTGTCTCACAAx-3     3         GKO1:TTTGGTTGTCTCACAAx-3   \n\n                                  Unnamed: 0  x    UMAP_1    UMAP_2  \\\nCellID                                                                \nGWT1:AAAGTGATCACCGACGx-0  AAAGTGATCACCGACG-1  1 -2.844779 -4.741085   \nGWT1:AACAAAGTCGGAGTGAx-0  AACAAAGTCGGAGTGA-1  1 -3.589407  0.633650   \nGWT1:AAACGCTGTGTTCGATx-0  AAACGCTGTGTTCGAT-1  1  1.552553  1.454273   \nGWT1:AAAGTCCCAACGACAGx-0  AAAGTCCCAACGACAG-1  1 -1.306827 -0.967202   \nGWT1:AAAGTGAGTTCGAACTx-0  AAAGTGAGTTCGAACT-1  1 -1.542258  3.240822   \n...                                      ... ..       ...       ...   \nGKO1:TTTGTTGCAGCAGATGx-3  TTTGTTGCAGCAGATG-1  4  2.015658 -7.688165   \nGKO1:TTTGGAGAGGAAGTAGx-3  TTTGGAGAGGAAGTAG-1  4 -0.598763 -2.847061   \nGKO1:TTTGACTGTCGTACTAx-3  TTTGACTGTCGTACTA-1  1  2.514450 -1.494023   \nGKO1:TTTGGAGTCCTTACCGx-3  TTTGGAGTCCTTACCG-1  1  1.228159  1.493315   \nGKO1:TTTGGTTGTCTCACAAx-3  TTTGGTTGTCTCACAA-1  1 -1.225438  0.361336   \n\n                                            CellID  \nCellID                                              \nGWT1:AAAGTGATCACCGACGx-0  GWT1:AAAGTGATCACCGACGx-0  \nGWT1:AACAAAGTCGGAGTGAx-0  GWT1:AACAAAGTCGGAGTGAx-0  \nGWT1:AAACGCTGTGTTCGATx-0  GWT1:AAACGCTGTGTTCGATx-0  \nGWT1:AAAGTCCCAACGACAGx-0  GWT1:AAAGTCCCAACGACAGx-0  \nGWT1:AAAGTGAGTTCGAACTx-0  GWT1:AAAGTGAGTTCGAACTx-0  \n...                                            ...  \nGKO1:TTTGTTGCAGCAGATGx-3  GKO1:TTTGTTGCAGCAGATGx-3  \nGKO1:TTTGGAGAGGAAGTAGx-3  GKO1:TTTGGAGAGGAAGTAGx-3  \nGKO1:TTTGACTGTCGTACTAx-3  GKO1:TTTGACTGTCGTACTAx-3  \nGKO1:TTTGGAGTCCTTACCGx-3  GKO1:TTTGGAGTCCTTACCGx-3  \nGKO1:TTTGGTTGTCTCACAAx-3  GKO1:TTTGGTTGTCTCACAAx-3  \n\n[43244 rows x 12 columns]",
      "text/html": "<div>\n<style scoped>\n    .dataframe tbody tr th:only-of-type {\n        vertical-align: middle;\n    }\n\n    .dataframe tbody tr th {\n        vertical-align: top;\n    }\n\n    .dataframe thead th {\n        text-align: right;\n    }\n</style>\n<table border=\"1\" class=\"dataframe\">\n  <thead>\n    <tr style=\"text-align: right;\">\n      <th></th>\n      <th>Clusters</th>\n      <th>_X</th>\n      <th>_Y</th>\n      <th>newid</th>\n      <th>batch</th>\n      <th>newid1</th>\n      <th>CellID1</th>\n      <th>Unnamed: 0</th>\n      <th>x</th>\n      <th>UMAP_1</th>\n      <th>UMAP_2</th>\n      <th>CellID</th>\n    </tr>\n    <tr>\n      <th>CellID</th>\n      <th></th>\n      <th></th>\n      <th></th>\n      <th></th>\n      <th></th>\n      <th></th>\n      <th></th>\n      <th></th>\n      <th></th>\n      <th></th>\n      <th></th>\n      <th></th>\n    </tr>\n  </thead>\n  <tbody>\n    <tr>\n      <th>GWT1:AAAGTGATCACCGACGx-0</th>\n      <td>1</td>\n      <td>-17.077444</td>\n      <td>-11.869936</td>\n      <td>AAAGTGATCACCGACG-1</td>\n      <td>0</td>\n      <td></td>\n      <td>GWT1:AAAGTGATCACCGACGx-0</td>\n      <td>AAAGTGATCACCGACG-1</td>\n      <td>1</td>\n      <td>-2.844779</td>\n      <td>-4.741085</td>\n      <td>GWT1:AAAGTGATCACCGACGx-0</td>\n    </tr>\n    <tr>\n      <th>GWT1:AACAAAGTCGGAGTGAx-0</th>\n      <td>9</td>\n      <td>12.098558</td>\n      <td>16.949923</td>\n      <td>AACAAAGTCGGAGTGA-1</td>\n      <td>0</td>\n      <td></td>\n      <td>GWT1:AACAAAGTCGGAGTGAx-0</td>\n      <td>AACAAAGTCGGAGTGA-1</td>\n      <td>1</td>\n      <td>-3.589407</td>\n      <td>0.633650</td>\n      <td>GWT1:AACAAAGTCGGAGTGAx-0</td>\n    </tr>\n    <tr>\n      <th>GWT1:AAACGCTGTGTTCGATx-0</th>\n      <td>6</td>\n      <td>-4.913635</td>\n      <td>-31.655123</td>\n      <td>AAACGCTGTGTTCGAT-1</td>\n      <td>0</td>\n      <td></td>\n      <td>GWT1:AAACGCTGTGTTCGATx-0</td>\n      <td>AAACGCTGTGTTCGAT-1</td>\n      <td>1</td>\n      <td>1.552553</td>\n      <td>1.454273</td>\n      <td>GWT1:AAACGCTGTGTTCGATx-0</td>\n    </tr>\n    <tr>\n      <th>GWT1:AAAGTCCCAACGACAGx-0</th>\n      <td>10</td>\n      <td>-13.780383</td>\n      <td>30.208845</td>\n      <td>AAAGTCCCAACGACAG-1</td>\n      <td>0</td>\n      <td></td>\n      <td>GWT1:AAAGTCCCAACGACAGx-0</td>\n      <td>AAAGTCCCAACGACAG-1</td>\n      <td>1</td>\n      <td>-1.306827</td>\n      <td>-0.967202</td>\n      <td>GWT1:AAAGTCCCAACGACAGx-0</td>\n    </tr>\n    <tr>\n      <th>GWT1:AAAGTGAGTTCGAACTx-0</th>\n      <td>4</td>\n      <td>16.889030</td>\n      <td>-27.093758</td>\n      <td>AAAGTGAGTTCGAACT-1</td>\n      <td>0</td>\n      <td></td>\n      <td>GWT1:AAAGTGAGTTCGAACTx-0</td>\n      <td>AAAGTGAGTTCGAACT-1</td>\n      <td>1</td>\n      <td>-1.542258</td>\n      <td>3.240822</td>\n      <td>GWT1:AAAGTGAGTTCGAACTx-0</td>\n    </tr>\n    <tr>\n      <th>...</th>\n      <td>...</td>\n      <td>...</td>\n      <td>...</td>\n      <td>...</td>\n      <td>...</td>\n      <td>...</td>\n      <td>...</td>\n      <td>...</td>\n      <td>...</td>\n      <td>...</td>\n      <td>...</td>\n      <td>...</td>\n    </tr>\n    <tr>\n      <th>GKO1:TTTGTTGCAGCAGATGx-3</th>\n      <td>11</td>\n      <td>17.495062</td>\n      <td>40.408279</td>\n      <td>TTTGTTGCAGCAGATG-1</td>\n      <td>3</td>\n      <td></td>\n      <td>GKO1:TTTGTTGCAGCAGATGx-3</td>\n      <td>TTTGTTGCAGCAGATG-1</td>\n      <td>4</td>\n      <td>2.015658</td>\n      <td>-7.688165</td>\n      <td>GKO1:TTTGTTGCAGCAGATGx-3</td>\n    </tr>\n    <tr>\n      <th>GKO1:TTTGGAGAGGAAGTAGx-3</th>\n      <td>8</td>\n      <td>9.889330</td>\n      <td>26.435860</td>\n      <td>TTTGGAGAGGAAGTAG-1</td>\n      <td>3</td>\n      <td></td>\n      <td>GKO1:TTTGGAGAGGAAGTAGx-3</td>\n      <td>TTTGGAGAGGAAGTAG-1</td>\n      <td>4</td>\n      <td>-0.598763</td>\n      <td>-2.847061</td>\n      <td>GKO1:TTTGGAGAGGAAGTAGx-3</td>\n    </tr>\n    <tr>\n      <th>GKO1:TTTGACTGTCGTACTAx-3</th>\n      <td>1</td>\n      <td>-21.976715</td>\n      <td>-2.905352</td>\n      <td>TTTGACTGTCGTACTA-1</td>\n      <td>3</td>\n      <td></td>\n      <td>GKO1:TTTGACTGTCGTACTAx-3</td>\n      <td>TTTGACTGTCGTACTA-1</td>\n      <td>1</td>\n      <td>2.514450</td>\n      <td>-1.494023</td>\n      <td>GKO1:TTTGACTGTCGTACTAx-3</td>\n    </tr>\n    <tr>\n      <th>GKO1:TTTGGAGTCCTTACCGx-3</th>\n      <td>8</td>\n      <td>42.646080</td>\n      <td>10.316961</td>\n      <td>TTTGGAGTCCTTACCG-1</td>\n      <td>3</td>\n      <td></td>\n      <td>GKO1:TTTGGAGTCCTTACCGx-3</td>\n      <td>TTTGGAGTCCTTACCG-1</td>\n      <td>1</td>\n      <td>1.228159</td>\n      <td>1.493315</td>\n      <td>GKO1:TTTGGAGTCCTTACCGx-3</td>\n    </tr>\n    <tr>\n      <th>GKO1:TTTGGTTGTCTCACAAx-3</th>\n      <td>0</td>\n      <td>-25.150513</td>\n      <td>-11.142797</td>\n      <td>TTTGGTTGTCTCACAA-1</td>\n      <td>3</td>\n      <td></td>\n      <td>GKO1:TTTGGTTGTCTCACAAx-3</td>\n      <td>TTTGGTTGTCTCACAA-1</td>\n      <td>1</td>\n      <td>-1.225438</td>\n      <td>0.361336</td>\n      <td>GKO1:TTTGGTTGTCTCACAAx-3</td>\n    </tr>\n  </tbody>\n</table>\n<p>43244 rows × 12 columns</p>\n</div>"
     },
     "execution_count": 29,
     "metadata": {},
     "output_type": "execute_result"
    }
   ],
   "source": [
    "invitro_all3.obs[\"CellID\"] = invitro_all3.obs[\"CellID1\"]\n",
    "invitro_all3.obs.index = invitro_all3.obs[\"CellID\"]\n",
    "invitro_all3.obs"
   ],
   "metadata": {
    "collapsed": false
   }
  },
  {
   "cell_type": "code",
   "execution_count": 30,
   "outputs": [],
   "source": [
    "X_umap = np.stack([invitro_all3.obs[\"UMAP_1\"], invitro_all3.obs[\"UMAP_2\"]]).T"
   ],
   "metadata": {
    "collapsed": false
   }
  },
  {
   "cell_type": "code",
   "execution_count": 31,
   "outputs": [],
   "source": [
    "invitro_all3.obsm['X_umap'] = X_umap\n"
   ],
   "metadata": {
    "collapsed": false
   }
  },
  {
   "cell_type": "code",
   "execution_count": 32,
   "outputs": [],
   "source": [
    "invitro2 =invitro_all3"
   ],
   "metadata": {
    "collapsed": false
   }
  },
  {
   "cell_type": "code",
   "execution_count": 33,
   "outputs": [
    {
     "name": "stdout",
     "output_type": "stream",
     "text": [
      "Filtered out 25057 genes that are detected 30 counts (shared).\n",
      "Normalized count data: X, spliced, unspliced.\n",
      "Extracted 4000 highly variable genes.\n"
     ]
    },
    {
     "name": "stderr",
     "output_type": "stream",
     "text": [
      "/Users/fayzan/opt/anaconda3/envs/PGS/lib/python3.8/site-packages/scvelo/preprocessing/utils.py:705: DeprecationWarning: `log1p` is deprecated since scVelo v0.3.0 and will be removed in a future version. Please use `log1p` from `scanpy.pp` instead.\n",
      "  log1p(adata)\n"
     ]
    },
    {
     "name": "stdout",
     "output_type": "stream",
     "text": [
      "Logarithmized X.\n"
     ]
    }
   ],
   "source": [
    "scv.pp.filter_and_normalize(invitro2, min_shared_counts=30, n_top_genes=4000)"
   ],
   "metadata": {
    "collapsed": false
   }
  },
  {
   "cell_type": "code",
   "execution_count": null,
   "outputs": [],
   "source": [
    "scv.pp.moments(invitro2, n_pcs=100, n_neighbors=20)\n",
    "scv.tl.recover_dynamics(invitro2)\n",
    "scv.tl.velocity(invitro2, mode='dynamical')\n",
    "scv.tl.velocity_graph(invitro2)\n",
    "scv.tl.recover_latent_time(invitro2, t_max=20000)"
   ],
   "metadata": {
    "collapsed": false,
    "pycharm": {
     "is_executing": true
    }
   }
  },
  {
   "cell_type": "code",
   "execution_count": 38,
   "outputs": [],
   "source": [
    "scv.pl.velocity_embedding_stream(invitro2,color='x', title='Survival_SCVELO')"
   ],
   "metadata": {
    "collapsed": false
   }
  },
  {
   "cell_type": "code",
   "execution_count": 46,
   "outputs": [],
   "source": [
    "scv.pl.velocity(invitro2, ['TP53'], ncols=2)"
   ],
   "metadata": {
    "collapsed": false
   }
  },
  {
   "cell_type": "code",
   "execution_count": 61,
   "outputs": [],
   "source": [
    "%matplotlib inline\n",
    "plt.show()\n",
    "%matplotlib notebook"
   ],
   "metadata": {
    "collapsed": false
   }
  },
  {
   "cell_type": "code",
   "execution_count": 62,
   "outputs": [],
   "source": [
    "scv.tl.rank_velocity_genes(invitro2, groupby='x', min_corr=.15)\n",
    "\n",
    "df = scv.DataFrame(invitro2.uns['rank_velocity_genes']['names'])\n",
    "df.head(100)\n"
   ],
   "metadata": {
    "collapsed": false
   }
  },
  {
   "cell_type": "code",
   "execution_count": 60,
   "outputs": [],
   "source": [
    "!pip install tornado --upgrade"
   ],
   "metadata": {
    "collapsed": false
   }
  },
  {
   "cell_type": "code",
   "execution_count": 63,
   "outputs": [],
   "source": [
    "scv.pl.heatmap(invitro2, var_names=[\"ALDH1A1\", \"LMO3\", \"KCNJ6\", \"AGTR1\", \"EN1\", \"TH\", \"NR4A2\", \"FOXA1\",\"SOX6\", \"SOX5\", \"VGF\", \"CALB1\", \"CALB2\", \"OTX2\", \"BAX\", \"JUN\"], sortby='latent_time', col_color='x', n_convolve=100, colorbar=True, sort=True)"
   ],
   "metadata": {
    "collapsed": false
   }
  },
  {
   "cell_type": "markdown",
   "source": [],
   "metadata": {
    "collapsed": false
   }
  },
  {
   "cell_type": "code",
   "execution_count": 65,
   "outputs": [],
   "source": [
    "scv.tl.velocity_pseudotime(invitro2)\n",
    "scv.pl.scatter(invitro2, color='latent_time', cmap='gnuplot')\n"
   ],
   "metadata": {
    "collapsed": false
   }
  },
  {
   "cell_type": "code",
   "execution_count": null,
   "outputs": [],
   "source": [],
   "metadata": {
    "collapsed": false
   }
  },
  {
   "cell_type": "code",
   "execution_count": null,
   "outputs": [],
   "source": [],
   "metadata": {
    "collapsed": false
   }
  },
  {
   "cell_type": "code",
   "execution_count": null,
   "outputs": [],
   "source": [
    "\n",
    "\n"
   ],
   "metadata": {
    "collapsed": false
   }
  },
  {
   "cell_type": "code",
   "execution_count": null,
   "outputs": [],
   "source": [],
   "metadata": {
    "collapsed": false
   }
  },
  {
   "cell_type": "code",
   "execution_count": null,
   "outputs": [],
   "source": [],
   "metadata": {
    "collapsed": false
   }
  }
 ],
 "metadata": {
  "kernelspec": {
   "display_name": "Python 3",
   "language": "python",
   "name": "python3"
  },
  "language_info": {
   "codemirror_mode": {
    "name": "ipython",
    "version": 2
   },
   "file_extension": ".py",
   "mimetype": "text/x-python",
   "name": "python",
   "nbconvert_exporter": "python",
   "pygments_lexer": "ipython2",
   "version": "2.7.6"
  }
 },
 "nbformat": 4,
 "nbformat_minor": 0
}
