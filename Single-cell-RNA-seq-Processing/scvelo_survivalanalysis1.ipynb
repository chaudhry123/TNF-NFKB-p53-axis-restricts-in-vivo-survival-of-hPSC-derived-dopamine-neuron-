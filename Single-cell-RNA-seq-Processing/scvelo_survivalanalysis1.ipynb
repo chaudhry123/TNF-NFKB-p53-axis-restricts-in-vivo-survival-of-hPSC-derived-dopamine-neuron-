{
 "cells": [
  {
   "cell_type": "code",
   "execution_count": null,
   "metadata": {
    "collapsed": true,
    "pycharm": {
     "is_executing": true
    }
   },
   "outputs": [],
   "source": [
    "import scvelo as scv\n",
    "import numpy as np\n",
    "import pandas as pd\n",
    "import matplotlib.pyplot as pl\n",
    "import scanpy as sc\n",
    "import igraph\n",
    "import scvelo as scv\n",
    "import loompy as lmp\n",
    "import anndata\n",
    "import os\n",
    "import re\n",
    "scv.set_figure_params(style=\"scvelo\")\n",
    "pl.rcParams[\"figure.figsize\"] = (10,10)\n",
    "Colorss=[\"#E41A1C\",\"#377EB8\",\"#4DAF4A\",\"#984EA3\",\"#FF7F00\",\"#FFFF33\",\"#A65628\",\"#F781BF\"]\n",
    "#velocyto run10x /Volumes/Extreme\\ Pro/D16_boost/ Users/fayzan/Downloads/refdata-gex-GRCh38-2020-A/genes/genes.gtf\n",
    "\n"
   ]
  },
  {
   "cell_type": "code",
   "execution_count": 51,
   "outputs": [],
   "source": [
    "adata_WT1 = scv.read('/Users/fayzan/PycharmProjects/Betel/Aim2/SCVELO_Surv/GWT1.loom')\n",
    "adata_KO1 = scv.read('/Users/fayzan/PycharmProjects/Betel/Aim2/SCVELO_Surv/GKO1.loom')\n",
    "adata_WT2 = scv.read('/Users/fayzan/PycharmProjects/Betel/Aim2/SCVELO_Surv/GWT2.loom')\n",
    "adata_KO2 = scv.read('/Users/fayzan/PycharmProjects/Betel/Aim2/SCVELO_Surv/GKO2.loom')\n"
   ],
   "metadata": {
    "collapsed": false
   }
  },
  {
   "cell_type": "code",
   "execution_count": 52,
   "outputs": [],
   "source": [
    "#Merge all velocyto files and then subset the cells. Then merge info.\n",
    "adata_WT1.obs['newid'] = adata_WT1.obs.index\n",
    "adata_WT2.obs['newid'] = adata_WT2.obs.index\n",
    "adata_KO1.obs['newid'] = adata_KO1.obs.index\n",
    "adata_KO2.obs['newid'] = adata_KO2.obs.index"
   ],
   "metadata": {
    "collapsed": false
   }
  },
  {
   "cell_type": "code",
   "execution_count": 22,
   "outputs": [
    {
     "data": {
      "text/plain": "                        Clusters         _X         _Y                   newid\nCellID                                                                        \nGWT1:AAAGTGATCACCGACGx         1 -17.077444 -11.869936  GWT1:AAAGTGATCACCGACGx\nGWT1:AACAAAGTCGGAGTGAx         9  12.098558  16.949923  GWT1:AACAAAGTCGGAGTGAx\nGWT1:AAACGCTGTGTTCGATx         6  -4.913635 -31.655123  GWT1:AAACGCTGTGTTCGATx\nGWT1:AAAGTCCCAACGACAGx        10 -13.780383  30.208845  GWT1:AAAGTCCCAACGACAGx\nGWT1:AAAGTGAGTTCGAACTx         4  16.889030 -27.093758  GWT1:AAAGTGAGTTCGAACTx\n...                          ...        ...        ...                     ...\nGWT1:TTTGTTGGTCACTTAGx         0 -19.211367  18.296263  GWT1:TTTGTTGGTCACTTAGx\nGWT1:TTTGTTGTCTAAGCCAx         8  37.145710  -3.072067  GWT1:TTTGTTGTCTAAGCCAx\nGWT1:TTTGATCGTGCAATAAx         0 -37.280457   0.677654  GWT1:TTTGATCGTGCAATAAx\nGWT1:TTTGTTGGTATCACGTx         5  14.755345 -17.091719  GWT1:TTTGTTGGTATCACGTx\nGWT1:TTTGGTTTCAATGTCGx         6 -16.246649 -26.795799  GWT1:TTTGGTTTCAATGTCGx\n\n[7623 rows x 4 columns]",
      "text/html": "<div>\n<style scoped>\n    .dataframe tbody tr th:only-of-type {\n        vertical-align: middle;\n    }\n\n    .dataframe tbody tr th {\n        vertical-align: top;\n    }\n\n    .dataframe thead th {\n        text-align: right;\n    }\n</style>\n<table border=\"1\" class=\"dataframe\">\n  <thead>\n    <tr style=\"text-align: right;\">\n      <th></th>\n      <th>Clusters</th>\n      <th>_X</th>\n      <th>_Y</th>\n      <th>newid</th>\n    </tr>\n    <tr>\n      <th>CellID</th>\n      <th></th>\n      <th></th>\n      <th></th>\n      <th></th>\n    </tr>\n  </thead>\n  <tbody>\n    <tr>\n      <th>GWT1:AAAGTGATCACCGACGx</th>\n      <td>1</td>\n      <td>-17.077444</td>\n      <td>-11.869936</td>\n      <td>GWT1:AAAGTGATCACCGACGx</td>\n    </tr>\n    <tr>\n      <th>GWT1:AACAAAGTCGGAGTGAx</th>\n      <td>9</td>\n      <td>12.098558</td>\n      <td>16.949923</td>\n      <td>GWT1:AACAAAGTCGGAGTGAx</td>\n    </tr>\n    <tr>\n      <th>GWT1:AAACGCTGTGTTCGATx</th>\n      <td>6</td>\n      <td>-4.913635</td>\n      <td>-31.655123</td>\n      <td>GWT1:AAACGCTGTGTTCGATx</td>\n    </tr>\n    <tr>\n      <th>GWT1:AAAGTCCCAACGACAGx</th>\n      <td>10</td>\n      <td>-13.780383</td>\n      <td>30.208845</td>\n      <td>GWT1:AAAGTCCCAACGACAGx</td>\n    </tr>\n    <tr>\n      <th>GWT1:AAAGTGAGTTCGAACTx</th>\n      <td>4</td>\n      <td>16.889030</td>\n      <td>-27.093758</td>\n      <td>GWT1:AAAGTGAGTTCGAACTx</td>\n    </tr>\n    <tr>\n      <th>...</th>\n      <td>...</td>\n      <td>...</td>\n      <td>...</td>\n      <td>...</td>\n    </tr>\n    <tr>\n      <th>GWT1:TTTGTTGGTCACTTAGx</th>\n      <td>0</td>\n      <td>-19.211367</td>\n      <td>18.296263</td>\n      <td>GWT1:TTTGTTGGTCACTTAGx</td>\n    </tr>\n    <tr>\n      <th>GWT1:TTTGTTGTCTAAGCCAx</th>\n      <td>8</td>\n      <td>37.145710</td>\n      <td>-3.072067</td>\n      <td>GWT1:TTTGTTGTCTAAGCCAx</td>\n    </tr>\n    <tr>\n      <th>GWT1:TTTGATCGTGCAATAAx</th>\n      <td>0</td>\n      <td>-37.280457</td>\n      <td>0.677654</td>\n      <td>GWT1:TTTGATCGTGCAATAAx</td>\n    </tr>\n    <tr>\n      <th>GWT1:TTTGTTGGTATCACGTx</th>\n      <td>5</td>\n      <td>14.755345</td>\n      <td>-17.091719</td>\n      <td>GWT1:TTTGTTGGTATCACGTx</td>\n    </tr>\n    <tr>\n      <th>GWT1:TTTGGTTTCAATGTCGx</th>\n      <td>6</td>\n      <td>-16.246649</td>\n      <td>-26.795799</td>\n      <td>GWT1:TTTGGTTTCAATGTCGx</td>\n    </tr>\n  </tbody>\n</table>\n<p>7623 rows × 4 columns</p>\n</div>"
     },
     "execution_count": 22,
     "metadata": {},
     "output_type": "execute_result"
    }
   ],
   "source": [
    "adata_WT1.obs\n"
   ],
   "metadata": {
    "collapsed": false
   }
  },
  {
   "cell_type": "code",
   "execution_count": 53,
   "outputs": [],
   "source": [
    "adata_WT1.obs['newid'] = adata_WT1.obs['newid'].str.replace(r'^.*?:', '',regex=True)\n",
    "adata_WT2.obs['newid'] = adata_WT2.obs['newid'].str.replace(r'^.*?:', '',regex=True)\n",
    "adata_KO1.obs['newid'] = adata_KO1.obs['newid'].str.replace(r'^.*?:', '',regex=True)\n",
    "adata_KO2.obs['newid'] = adata_KO2.obs['newid'].str.replace(r'^.*?:', '',regex=True)"
   ],
   "metadata": {
    "collapsed": false
   }
  },
  {
   "cell_type": "code",
   "execution_count": 54,
   "outputs": [
    {
     "data": {
      "text/plain": "                        Clusters         _X         _Y               newid\nCellID                                                                    \nGWT1:AAAGTGATCACCGACGx         1 -17.077444 -11.869936  AAAGTGATCACCGACG-1\nGWT1:AACAAAGTCGGAGTGAx         9  12.098558  16.949923  AACAAAGTCGGAGTGA-1\nGWT1:AAACGCTGTGTTCGATx         6  -4.913635 -31.655123  AAACGCTGTGTTCGAT-1\nGWT1:AAAGTCCCAACGACAGx        10 -13.780383  30.208845  AAAGTCCCAACGACAG-1\nGWT1:AAAGTGAGTTCGAACTx         4  16.889030 -27.093758  AAAGTGAGTTCGAACT-1\n...                          ...        ...        ...                 ...\nGWT1:TTTGTTGGTCACTTAGx         0 -19.211367  18.296263  TTTGTTGGTCACTTAG-1\nGWT1:TTTGTTGTCTAAGCCAx         8  37.145710  -3.072067  TTTGTTGTCTAAGCCA-1\nGWT1:TTTGATCGTGCAATAAx         0 -37.280457   0.677654  TTTGATCGTGCAATAA-1\nGWT1:TTTGTTGGTATCACGTx         5  14.755345 -17.091719  TTTGTTGGTATCACGT-1\nGWT1:TTTGGTTTCAATGTCGx         6 -16.246649 -26.795799  TTTGGTTTCAATGTCG-1\n\n[7623 rows x 4 columns]",
      "text/html": "<div>\n<style scoped>\n    .dataframe tbody tr th:only-of-type {\n        vertical-align: middle;\n    }\n\n    .dataframe tbody tr th {\n        vertical-align: top;\n    }\n\n    .dataframe thead th {\n        text-align: right;\n    }\n</style>\n<table border=\"1\" class=\"dataframe\">\n  <thead>\n    <tr style=\"text-align: right;\">\n      <th></th>\n      <th>Clusters</th>\n      <th>_X</th>\n      <th>_Y</th>\n      <th>newid</th>\n    </tr>\n    <tr>\n      <th>CellID</th>\n      <th></th>\n      <th></th>\n      <th></th>\n      <th></th>\n    </tr>\n  </thead>\n  <tbody>\n    <tr>\n      <th>GWT1:AAAGTGATCACCGACGx</th>\n      <td>1</td>\n      <td>-17.077444</td>\n      <td>-11.869936</td>\n      <td>AAAGTGATCACCGACG-1</td>\n    </tr>\n    <tr>\n      <th>GWT1:AACAAAGTCGGAGTGAx</th>\n      <td>9</td>\n      <td>12.098558</td>\n      <td>16.949923</td>\n      <td>AACAAAGTCGGAGTGA-1</td>\n    </tr>\n    <tr>\n      <th>GWT1:AAACGCTGTGTTCGATx</th>\n      <td>6</td>\n      <td>-4.913635</td>\n      <td>-31.655123</td>\n      <td>AAACGCTGTGTTCGAT-1</td>\n    </tr>\n    <tr>\n      <th>GWT1:AAAGTCCCAACGACAGx</th>\n      <td>10</td>\n      <td>-13.780383</td>\n      <td>30.208845</td>\n      <td>AAAGTCCCAACGACAG-1</td>\n    </tr>\n    <tr>\n      <th>GWT1:AAAGTGAGTTCGAACTx</th>\n      <td>4</td>\n      <td>16.889030</td>\n      <td>-27.093758</td>\n      <td>AAAGTGAGTTCGAACT-1</td>\n    </tr>\n    <tr>\n      <th>...</th>\n      <td>...</td>\n      <td>...</td>\n      <td>...</td>\n      <td>...</td>\n    </tr>\n    <tr>\n      <th>GWT1:TTTGTTGGTCACTTAGx</th>\n      <td>0</td>\n      <td>-19.211367</td>\n      <td>18.296263</td>\n      <td>TTTGTTGGTCACTTAG-1</td>\n    </tr>\n    <tr>\n      <th>GWT1:TTTGTTGTCTAAGCCAx</th>\n      <td>8</td>\n      <td>37.145710</td>\n      <td>-3.072067</td>\n      <td>TTTGTTGTCTAAGCCA-1</td>\n    </tr>\n    <tr>\n      <th>GWT1:TTTGATCGTGCAATAAx</th>\n      <td>0</td>\n      <td>-37.280457</td>\n      <td>0.677654</td>\n      <td>TTTGATCGTGCAATAA-1</td>\n    </tr>\n    <tr>\n      <th>GWT1:TTTGTTGGTATCACGTx</th>\n      <td>5</td>\n      <td>14.755345</td>\n      <td>-17.091719</td>\n      <td>TTTGTTGGTATCACGT-1</td>\n    </tr>\n    <tr>\n      <th>GWT1:TTTGGTTTCAATGTCGx</th>\n      <td>6</td>\n      <td>-16.246649</td>\n      <td>-26.795799</td>\n      <td>TTTGGTTTCAATGTCG-1</td>\n    </tr>\n  </tbody>\n</table>\n<p>7623 rows × 4 columns</p>\n</div>"
     },
     "execution_count": 54,
     "metadata": {},
     "output_type": "execute_result"
    }
   ],
   "source": [
    "adata_WT1.obs['newid'] = adata_WT1.obs['newid'].str.replace(r'.$', '-1',regex=True)\n",
    "adata_WT2.obs['newid'] = adata_WT2.obs['newid'].str.replace(r'.$', '-1',regex=True)\n",
    "adata_KO1.obs['newid'] = adata_KO1.obs['newid'].str.replace(r'.$', '-1',regex=True)\n",
    "adata_KO2.obs['newid'] = adata_KO2.obs['newid'].str.replace(r'.$', '-1',regex=True)\n",
    "adata_WT1.obs"
   ],
   "metadata": {
    "collapsed": false
   }
  },
  {
   "cell_type": "code",
   "execution_count": 24,
   "outputs": [],
   "source": [
    "sample_obs = pd.read_csv(\"/Users/fayzan/PycharmProjects/Betel/Aim2/SCVELO_Surv/cellID_obsunique.csv\")\n",
    "sample_obs_all = pd.read_csv(\"/Users/fayzan/PycharmProjects/Betel/Aim2/SCVELO_Surv/cellID_obsnotunique.csv\")\n",
    "umap_cord = pd.read_csv(\"/Users/fayzan/PycharmProjects/Betel/Aim2/SCVELO_Surv/cell_embeddings.csv\")\n",
    "cell_clusters = pd.read_csv(\"/Users/fayzan/PycharmProjects/Betel/Aim2/SCVELO_Surv/clusters.csv\")"
   ],
   "metadata": {
    "collapsed": false
   }
  },
  {
   "cell_type": "code",
   "execution_count": 25,
   "outputs": [
    {
     "data": {
      "text/plain": "0        AAACCCAAGCCATTTG-1\n1        AAACCCAAGCGACCCT-1\n2        AAACCCAAGCTACAAA-1\n3        AAACCCAAGGAGGTTC-1\n4        AAACCCAAGGTAAGTT-1\n                ...        \n43247    TTTGTTGGTTCAAGTC-1\n43248    TTTGTTGTCCCAGCGA-1\n43249    TTTGTTGTCGCGTTTC-1\n43250    TTTGTTGTCTAGCCAA-1\n43251    TTTGTTGTCTGTAACG-1\nName: x, Length: 43252, dtype: object"
     },
     "execution_count": 25,
     "metadata": {},
     "output_type": "execute_result"
    }
   ],
   "source": [
    "sample_obs[\"x\"]"
   ],
   "metadata": {
    "collapsed": false
   }
  },
  {
   "cell_type": "code",
   "execution_count": 55,
   "outputs": [],
   "source": [
    "#Take Unique Cells\n",
    "adata_WT1 = adata_WT1[np.isin(adata_WT1.obs.newid, sample_obs[\"x\"])]\n",
    "adata_KO1 = adata_KO1[np.isin(adata_KO1.obs.newid, sample_obs[\"x\"])]\n",
    "adata_WT2 = adata_WT2[np.isin(adata_WT2.obs.newid, sample_obs[\"x\"])]\n",
    "adata_KO2 = adata_KO2[np.isin(adata_KO2.obs.newid, sample_obs[\"x\"])]\n"
   ],
   "metadata": {
    "collapsed": false
   }
  },
  {
   "cell_type": "code",
   "execution_count": 59,
   "outputs": [
    {
     "data": {
      "text/plain": "                        Clusters         _X         _Y               newid\nCellID                                                                    \nGWT2:AAAGTGAGTCCTCCATx         1   5.989849  15.507957  AAAGTGAGTCCTCCAT-1\nGWT2:AAACCCAGTACTGGGAx        11 -33.459461 -26.805746  AAACCCAGTACTGGGA-1\nGWT2:AAACGAATCGACGATTx         4 -39.591656   2.450825  AAACGAATCGACGATT-1\nGWT2:AAACCCAGTATTGGCTx         0   0.648654 -10.555010  AAACCCAGTATTGGCT-1\nGWT2:AAACGCTGTAGTCTTGx         6  23.673765 -17.025333  AAACGCTGTAGTCTTG-1\n...                          ...        ...        ...                 ...\nGWT2:TTTCCTCGTCCCTAAAx         0   7.761185  -4.176427  TTTCCTCGTCCCTAAA-1\nGWT2:TTTGATCAGAAACTACx         2 -11.036859 -34.119938  TTTGATCAGAAACTAC-1\nGWT2:TTTGTTGAGGACACTGx         8 -28.032364 -16.159655  TTTGTTGAGGACACTG-1\nGWT2:TTTGACTAGCGTCGAAx         3  21.438250  17.891840  TTTGACTAGCGTCGAA-1\nGWT2:TTTGGAGAGAACTTCCx         1  -9.669289  -6.603244  TTTGGAGAGAACTTCC-1\n\n[11235 rows x 4 columns]",
      "text/html": "<div>\n<style scoped>\n    .dataframe tbody tr th:only-of-type {\n        vertical-align: middle;\n    }\n\n    .dataframe tbody tr th {\n        vertical-align: top;\n    }\n\n    .dataframe thead th {\n        text-align: right;\n    }\n</style>\n<table border=\"1\" class=\"dataframe\">\n  <thead>\n    <tr style=\"text-align: right;\">\n      <th></th>\n      <th>Clusters</th>\n      <th>_X</th>\n      <th>_Y</th>\n      <th>newid</th>\n    </tr>\n    <tr>\n      <th>CellID</th>\n      <th></th>\n      <th></th>\n      <th></th>\n      <th></th>\n    </tr>\n  </thead>\n  <tbody>\n    <tr>\n      <th>GWT2:AAAGTGAGTCCTCCATx</th>\n      <td>1</td>\n      <td>5.989849</td>\n      <td>15.507957</td>\n      <td>AAAGTGAGTCCTCCAT-1</td>\n    </tr>\n    <tr>\n      <th>GWT2:AAACCCAGTACTGGGAx</th>\n      <td>11</td>\n      <td>-33.459461</td>\n      <td>-26.805746</td>\n      <td>AAACCCAGTACTGGGA-1</td>\n    </tr>\n    <tr>\n      <th>GWT2:AAACGAATCGACGATTx</th>\n      <td>4</td>\n      <td>-39.591656</td>\n      <td>2.450825</td>\n      <td>AAACGAATCGACGATT-1</td>\n    </tr>\n    <tr>\n      <th>GWT2:AAACCCAGTATTGGCTx</th>\n      <td>0</td>\n      <td>0.648654</td>\n      <td>-10.555010</td>\n      <td>AAACCCAGTATTGGCT-1</td>\n    </tr>\n    <tr>\n      <th>GWT2:AAACGCTGTAGTCTTGx</th>\n      <td>6</td>\n      <td>23.673765</td>\n      <td>-17.025333</td>\n      <td>AAACGCTGTAGTCTTG-1</td>\n    </tr>\n    <tr>\n      <th>...</th>\n      <td>...</td>\n      <td>...</td>\n      <td>...</td>\n      <td>...</td>\n    </tr>\n    <tr>\n      <th>GWT2:TTTCCTCGTCCCTAAAx</th>\n      <td>0</td>\n      <td>7.761185</td>\n      <td>-4.176427</td>\n      <td>TTTCCTCGTCCCTAAA-1</td>\n    </tr>\n    <tr>\n      <th>GWT2:TTTGATCAGAAACTACx</th>\n      <td>2</td>\n      <td>-11.036859</td>\n      <td>-34.119938</td>\n      <td>TTTGATCAGAAACTAC-1</td>\n    </tr>\n    <tr>\n      <th>GWT2:TTTGTTGAGGACACTGx</th>\n      <td>8</td>\n      <td>-28.032364</td>\n      <td>-16.159655</td>\n      <td>TTTGTTGAGGACACTG-1</td>\n    </tr>\n    <tr>\n      <th>GWT2:TTTGACTAGCGTCGAAx</th>\n      <td>3</td>\n      <td>21.438250</td>\n      <td>17.891840</td>\n      <td>TTTGACTAGCGTCGAA-1</td>\n    </tr>\n    <tr>\n      <th>GWT2:TTTGGAGAGAACTTCCx</th>\n      <td>1</td>\n      <td>-9.669289</td>\n      <td>-6.603244</td>\n      <td>TTTGGAGAGAACTTCC-1</td>\n    </tr>\n  </tbody>\n</table>\n<p>11235 rows × 4 columns</p>\n</div>"
     },
     "execution_count": 59,
     "metadata": {},
     "output_type": "execute_result"
    }
   ],
   "source": [
    "\n",
    "\n",
    "\n"
   ],
   "metadata": {
    "collapsed": false
   }
  },
  {
   "cell_type": "code",
   "execution_count": 60,
   "outputs": [],
   "source": [
    "adata_WT1.var_names_make_unique()\n",
    "adata_WT2.var_names_make_unique()\n",
    "adata_KO1.var_names_make_unique()\n",
    "adata_KO2.var_names_make_unique()"
   ],
   "metadata": {
    "collapsed": false
   }
  },
  {
   "cell_type": "code",
   "execution_count": 61,
   "outputs": [],
   "source": [
    "invitro_all = adata_WT1.concatenate(adata_KO2, adata_WT2,adata_KO1)"
   ],
   "metadata": {
    "collapsed": false
   }
  },
  {
   "cell_type": "code",
   "execution_count": 62,
   "outputs": [],
   "source": [
    "invitro_all.obs['newid1']=invitro_all.obs['newid']\n",
    "invitro_all.obs['newid1'].loc[~invitro_all.obs['newid'].duplicated(keep='first')]=''"
   ],
   "metadata": {
    "collapsed": false
   }
  },
  {
   "cell_type": "code",
   "execution_count": 63,
   "outputs": [
    {
     "data": {
      "text/plain": "                          Clusters         _X         _Y               newid  \\\nCellID                                                                         \nGWT1:AAAGTGATCACCGACGx-0         1 -17.077444 -11.869936  AAAGTGATCACCGACG-1   \nGWT1:AACAAAGTCGGAGTGAx-0         9  12.098558  16.949923  AACAAAGTCGGAGTGA-1   \nGWT1:AAACGCTGTGTTCGATx-0         6  -4.913635 -31.655123  AAACGCTGTGTTCGAT-1   \nGWT1:AAAGTCCCAACGACAGx-0        10 -13.780383  30.208845  AAAGTCCCAACGACAG-1   \nGWT1:AAAGTGAGTTCGAACTx-0         4  16.889030 -27.093758  AAAGTGAGTTCGAACT-1   \n...                            ...        ...        ...                 ...   \nGKO1:TTTGTTGCAGCAGATGx-3        11  17.495062  40.408279  TTTGTTGCAGCAGATG-1   \nGKO1:TTTGGAGAGGAAGTAGx-3         8   9.889330  26.435860  TTTGGAGAGGAAGTAG-1   \nGKO1:TTTGACTGTCGTACTAx-3         1 -21.976715  -2.905352  TTTGACTGTCGTACTA-1   \nGKO1:TTTGGAGTCCTTACCGx-3         8  42.646080  10.316961  TTTGGAGTCCTTACCG-1   \nGKO1:TTTGGTTGTCTCACAAx-3         0 -25.150513 -11.142797  TTTGGTTGTCTCACAA-1   \n\n                         batch newid1  \nCellID                                 \nGWT1:AAAGTGATCACCGACGx-0     0         \nGWT1:AACAAAGTCGGAGTGAx-0     0         \nGWT1:AAACGCTGTGTTCGATx-0     0         \nGWT1:AAAGTCCCAACGACAGx-0     0         \nGWT1:AAAGTGAGTTCGAACTx-0     0         \n...                        ...    ...  \nGKO1:TTTGTTGCAGCAGATGx-3     3         \nGKO1:TTTGGAGAGGAAGTAGx-3     3         \nGKO1:TTTGACTGTCGTACTAx-3     3         \nGKO1:TTTGGAGTCCTTACCGx-3     3         \nGKO1:TTTGGTTGTCTCACAAx-3     3         \n\n[43438 rows x 6 columns]",
      "text/html": "<div>\n<style scoped>\n    .dataframe tbody tr th:only-of-type {\n        vertical-align: middle;\n    }\n\n    .dataframe tbody tr th {\n        vertical-align: top;\n    }\n\n    .dataframe thead th {\n        text-align: right;\n    }\n</style>\n<table border=\"1\" class=\"dataframe\">\n  <thead>\n    <tr style=\"text-align: right;\">\n      <th></th>\n      <th>Clusters</th>\n      <th>_X</th>\n      <th>_Y</th>\n      <th>newid</th>\n      <th>batch</th>\n      <th>newid1</th>\n    </tr>\n    <tr>\n      <th>CellID</th>\n      <th></th>\n      <th></th>\n      <th></th>\n      <th></th>\n      <th></th>\n      <th></th>\n    </tr>\n  </thead>\n  <tbody>\n    <tr>\n      <th>GWT1:AAAGTGATCACCGACGx-0</th>\n      <td>1</td>\n      <td>-17.077444</td>\n      <td>-11.869936</td>\n      <td>AAAGTGATCACCGACG-1</td>\n      <td>0</td>\n      <td></td>\n    </tr>\n    <tr>\n      <th>GWT1:AACAAAGTCGGAGTGAx-0</th>\n      <td>9</td>\n      <td>12.098558</td>\n      <td>16.949923</td>\n      <td>AACAAAGTCGGAGTGA-1</td>\n      <td>0</td>\n      <td></td>\n    </tr>\n    <tr>\n      <th>GWT1:AAACGCTGTGTTCGATx-0</th>\n      <td>6</td>\n      <td>-4.913635</td>\n      <td>-31.655123</td>\n      <td>AAACGCTGTGTTCGAT-1</td>\n      <td>0</td>\n      <td></td>\n    </tr>\n    <tr>\n      <th>GWT1:AAAGTCCCAACGACAGx-0</th>\n      <td>10</td>\n      <td>-13.780383</td>\n      <td>30.208845</td>\n      <td>AAAGTCCCAACGACAG-1</td>\n      <td>0</td>\n      <td></td>\n    </tr>\n    <tr>\n      <th>GWT1:AAAGTGAGTTCGAACTx-0</th>\n      <td>4</td>\n      <td>16.889030</td>\n      <td>-27.093758</td>\n      <td>AAAGTGAGTTCGAACT-1</td>\n      <td>0</td>\n      <td></td>\n    </tr>\n    <tr>\n      <th>...</th>\n      <td>...</td>\n      <td>...</td>\n      <td>...</td>\n      <td>...</td>\n      <td>...</td>\n      <td>...</td>\n    </tr>\n    <tr>\n      <th>GKO1:TTTGTTGCAGCAGATGx-3</th>\n      <td>11</td>\n      <td>17.495062</td>\n      <td>40.408279</td>\n      <td>TTTGTTGCAGCAGATG-1</td>\n      <td>3</td>\n      <td></td>\n    </tr>\n    <tr>\n      <th>GKO1:TTTGGAGAGGAAGTAGx-3</th>\n      <td>8</td>\n      <td>9.889330</td>\n      <td>26.435860</td>\n      <td>TTTGGAGAGGAAGTAG-1</td>\n      <td>3</td>\n      <td></td>\n    </tr>\n    <tr>\n      <th>GKO1:TTTGACTGTCGTACTAx-3</th>\n      <td>1</td>\n      <td>-21.976715</td>\n      <td>-2.905352</td>\n      <td>TTTGACTGTCGTACTA-1</td>\n      <td>3</td>\n      <td></td>\n    </tr>\n    <tr>\n      <th>GKO1:TTTGGAGTCCTTACCGx-3</th>\n      <td>8</td>\n      <td>42.646080</td>\n      <td>10.316961</td>\n      <td>TTTGGAGTCCTTACCG-1</td>\n      <td>3</td>\n      <td></td>\n    </tr>\n    <tr>\n      <th>GKO1:TTTGGTTGTCTCACAAx-3</th>\n      <td>0</td>\n      <td>-25.150513</td>\n      <td>-11.142797</td>\n      <td>TTTGGTTGTCTCACAA-1</td>\n      <td>3</td>\n      <td></td>\n    </tr>\n  </tbody>\n</table>\n<p>43438 rows × 6 columns</p>\n</div>"
     },
     "execution_count": 63,
     "metadata": {},
     "output_type": "execute_result"
    }
   ],
   "source": [
    "invitro_all.obs"
   ],
   "metadata": {
    "collapsed": false
   }
  },
  {
   "cell_type": "code",
   "execution_count": 64,
   "outputs": [],
   "source": [
    "invitro_all3 =  invitro_all[invitro_all.obs.newid1 == \"\"]"
   ],
   "metadata": {
    "collapsed": false
   }
  },
  {
   "cell_type": "code",
   "execution_count": 65,
   "outputs": [
    {
     "data": {
      "text/plain": "View of AnnData object with n_obs × n_vars = 43244 × 36601\n    obs: 'Clusters', '_X', '_Y', 'newid', 'batch', 'newid1'\n    var: 'Accession', 'Chromosome', 'End', 'Start', 'Strand'\n    layers: 'matrix', 'ambiguous', 'spliced', 'unspliced'"
     },
     "execution_count": 65,
     "metadata": {},
     "output_type": "execute_result"
    }
   ],
   "source": [
    "invitro_all3"
   ],
   "metadata": {
    "collapsed": false
   }
  },
  {
   "cell_type": "code",
   "execution_count": 66,
   "outputs": [
    {
     "data": {
      "text/plain": "                          Clusters         _X         _Y               newid  \\\nCellID                                                                         \nGWT1:AAAGTGATCACCGACGx-0         1 -17.077444 -11.869936  AAAGTGATCACCGACG-1   \nGWT1:AACAAAGTCGGAGTGAx-0         9  12.098558  16.949923  AACAAAGTCGGAGTGA-1   \nGWT1:AAACGCTGTGTTCGATx-0         6  -4.913635 -31.655123  AAACGCTGTGTTCGAT-1   \nGWT1:AAAGTCCCAACGACAGx-0        10 -13.780383  30.208845  AAAGTCCCAACGACAG-1   \nGWT1:AAAGTGAGTTCGAACTx-0         4  16.889030 -27.093758  AAAGTGAGTTCGAACT-1   \n...                            ...        ...        ...                 ...   \nGKO1:TTTGTTGCAGCAGATGx-3        11  17.495062  40.408279  TTTGTTGCAGCAGATG-1   \nGKO1:TTTGGAGAGGAAGTAGx-3         8   9.889330  26.435860  TTTGGAGAGGAAGTAG-1   \nGKO1:TTTGACTGTCGTACTAx-3         1 -21.976715  -2.905352  TTTGACTGTCGTACTA-1   \nGKO1:TTTGGAGTCCTTACCGx-3         8  42.646080  10.316961  TTTGGAGTCCTTACCG-1   \nGKO1:TTTGGTTGTCTCACAAx-3         0 -25.150513 -11.142797  TTTGGTTGTCTCACAA-1   \n\n                         batch newid1  \nCellID                                 \nGWT1:AAAGTGATCACCGACGx-0     0         \nGWT1:AACAAAGTCGGAGTGAx-0     0         \nGWT1:AAACGCTGTGTTCGATx-0     0         \nGWT1:AAAGTCCCAACGACAGx-0     0         \nGWT1:AAAGTGAGTTCGAACTx-0     0         \n...                        ...    ...  \nGKO1:TTTGTTGCAGCAGATGx-3     3         \nGKO1:TTTGGAGAGGAAGTAGx-3     3         \nGKO1:TTTGACTGTCGTACTAx-3     3         \nGKO1:TTTGGAGTCCTTACCGx-3     3         \nGKO1:TTTGGTTGTCTCACAAx-3     3         \n\n[43244 rows x 6 columns]",
      "text/html": "<div>\n<style scoped>\n    .dataframe tbody tr th:only-of-type {\n        vertical-align: middle;\n    }\n\n    .dataframe tbody tr th {\n        vertical-align: top;\n    }\n\n    .dataframe thead th {\n        text-align: right;\n    }\n</style>\n<table border=\"1\" class=\"dataframe\">\n  <thead>\n    <tr style=\"text-align: right;\">\n      <th></th>\n      <th>Clusters</th>\n      <th>_X</th>\n      <th>_Y</th>\n      <th>newid</th>\n      <th>batch</th>\n      <th>newid1</th>\n    </tr>\n    <tr>\n      <th>CellID</th>\n      <th></th>\n      <th></th>\n      <th></th>\n      <th></th>\n      <th></th>\n      <th></th>\n    </tr>\n  </thead>\n  <tbody>\n    <tr>\n      <th>GWT1:AAAGTGATCACCGACGx-0</th>\n      <td>1</td>\n      <td>-17.077444</td>\n      <td>-11.869936</td>\n      <td>AAAGTGATCACCGACG-1</td>\n      <td>0</td>\n      <td></td>\n    </tr>\n    <tr>\n      <th>GWT1:AACAAAGTCGGAGTGAx-0</th>\n      <td>9</td>\n      <td>12.098558</td>\n      <td>16.949923</td>\n      <td>AACAAAGTCGGAGTGA-1</td>\n      <td>0</td>\n      <td></td>\n    </tr>\n    <tr>\n      <th>GWT1:AAACGCTGTGTTCGATx-0</th>\n      <td>6</td>\n      <td>-4.913635</td>\n      <td>-31.655123</td>\n      <td>AAACGCTGTGTTCGAT-1</td>\n      <td>0</td>\n      <td></td>\n    </tr>\n    <tr>\n      <th>GWT1:AAAGTCCCAACGACAGx-0</th>\n      <td>10</td>\n      <td>-13.780383</td>\n      <td>30.208845</td>\n      <td>AAAGTCCCAACGACAG-1</td>\n      <td>0</td>\n      <td></td>\n    </tr>\n    <tr>\n      <th>GWT1:AAAGTGAGTTCGAACTx-0</th>\n      <td>4</td>\n      <td>16.889030</td>\n      <td>-27.093758</td>\n      <td>AAAGTGAGTTCGAACT-1</td>\n      <td>0</td>\n      <td></td>\n    </tr>\n    <tr>\n      <th>...</th>\n      <td>...</td>\n      <td>...</td>\n      <td>...</td>\n      <td>...</td>\n      <td>...</td>\n      <td>...</td>\n    </tr>\n    <tr>\n      <th>GKO1:TTTGTTGCAGCAGATGx-3</th>\n      <td>11</td>\n      <td>17.495062</td>\n      <td>40.408279</td>\n      <td>TTTGTTGCAGCAGATG-1</td>\n      <td>3</td>\n      <td></td>\n    </tr>\n    <tr>\n      <th>GKO1:TTTGGAGAGGAAGTAGx-3</th>\n      <td>8</td>\n      <td>9.889330</td>\n      <td>26.435860</td>\n      <td>TTTGGAGAGGAAGTAG-1</td>\n      <td>3</td>\n      <td></td>\n    </tr>\n    <tr>\n      <th>GKO1:TTTGACTGTCGTACTAx-3</th>\n      <td>1</td>\n      <td>-21.976715</td>\n      <td>-2.905352</td>\n      <td>TTTGACTGTCGTACTA-1</td>\n      <td>3</td>\n      <td></td>\n    </tr>\n    <tr>\n      <th>GKO1:TTTGGAGTCCTTACCGx-3</th>\n      <td>8</td>\n      <td>42.646080</td>\n      <td>10.316961</td>\n      <td>TTTGGAGTCCTTACCG-1</td>\n      <td>3</td>\n      <td></td>\n    </tr>\n    <tr>\n      <th>GKO1:TTTGGTTGTCTCACAAx-3</th>\n      <td>0</td>\n      <td>-25.150513</td>\n      <td>-11.142797</td>\n      <td>TTTGGTTGTCTCACAA-1</td>\n      <td>3</td>\n      <td></td>\n    </tr>\n  </tbody>\n</table>\n<p>43244 rows × 6 columns</p>\n</div>"
     },
     "execution_count": 66,
     "metadata": {},
     "output_type": "execute_result"
    }
   ],
   "source": [
    "invitro_all3.obs"
   ],
   "metadata": {
    "collapsed": false
   }
  },
  {
   "cell_type": "code",
   "execution_count": 67,
   "outputs": [
    {
     "data": {
      "text/plain": "               Unnamed: 0    UMAP_1    UMAP_2\n0      AAACCCAAGCCATTTG-1  4.506885 -1.428377\n1      AAACCCAAGCGACCCT-1  0.658285 -0.615243\n2      AAACCCAAGCTACAAA-1  3.812819 -1.517525\n3      AAACCCAAGGAGGTTC-1  1.731572  2.718117\n4      AAACCCAAGGTAAGTT-1 -1.495209  0.777464\n...                   ...       ...       ...\n43431  TTTGTTGGTTCAAGTC-1  0.783719 -5.733409\n43432  TTTGTTGTCCCAGCGA-1  1.029591 -3.637614\n43433  TTTGTTGTCGCGTTTC-1  2.494064 -0.962188\n43434  TTTGTTGTCTAGCCAA-1 -0.310459 -5.098460\n43435  TTTGTTGTCTGTAACG-1 -4.914391  4.771186\n\n[43252 rows x 3 columns]",
      "text/html": "<div>\n<style scoped>\n    .dataframe tbody tr th:only-of-type {\n        vertical-align: middle;\n    }\n\n    .dataframe tbody tr th {\n        vertical-align: top;\n    }\n\n    .dataframe thead th {\n        text-align: right;\n    }\n</style>\n<table border=\"1\" class=\"dataframe\">\n  <thead>\n    <tr style=\"text-align: right;\">\n      <th></th>\n      <th>Unnamed: 0</th>\n      <th>UMAP_1</th>\n      <th>UMAP_2</th>\n    </tr>\n  </thead>\n  <tbody>\n    <tr>\n      <th>0</th>\n      <td>AAACCCAAGCCATTTG-1</td>\n      <td>4.506885</td>\n      <td>-1.428377</td>\n    </tr>\n    <tr>\n      <th>1</th>\n      <td>AAACCCAAGCGACCCT-1</td>\n      <td>0.658285</td>\n      <td>-0.615243</td>\n    </tr>\n    <tr>\n      <th>2</th>\n      <td>AAACCCAAGCTACAAA-1</td>\n      <td>3.812819</td>\n      <td>-1.517525</td>\n    </tr>\n    <tr>\n      <th>3</th>\n      <td>AAACCCAAGGAGGTTC-1</td>\n      <td>1.731572</td>\n      <td>2.718117</td>\n    </tr>\n    <tr>\n      <th>4</th>\n      <td>AAACCCAAGGTAAGTT-1</td>\n      <td>-1.495209</td>\n      <td>0.777464</td>\n    </tr>\n    <tr>\n      <th>...</th>\n      <td>...</td>\n      <td>...</td>\n      <td>...</td>\n    </tr>\n    <tr>\n      <th>43431</th>\n      <td>TTTGTTGGTTCAAGTC-1</td>\n      <td>0.783719</td>\n      <td>-5.733409</td>\n    </tr>\n    <tr>\n      <th>43432</th>\n      <td>TTTGTTGTCCCAGCGA-1</td>\n      <td>1.029591</td>\n      <td>-3.637614</td>\n    </tr>\n    <tr>\n      <th>43433</th>\n      <td>TTTGTTGTCGCGTTTC-1</td>\n      <td>2.494064</td>\n      <td>-0.962188</td>\n    </tr>\n    <tr>\n      <th>43434</th>\n      <td>TTTGTTGTCTAGCCAA-1</td>\n      <td>-0.310459</td>\n      <td>-5.098460</td>\n    </tr>\n    <tr>\n      <th>43435</th>\n      <td>TTTGTTGTCTGTAACG-1</td>\n      <td>-4.914391</td>\n      <td>4.771186</td>\n    </tr>\n  </tbody>\n</table>\n<p>43252 rows × 3 columns</p>\n</div>"
     },
     "execution_count": 67,
     "metadata": {},
     "output_type": "execute_result"
    }
   ],
   "source": [
    "umap_cord['Unnamed: 0'] = sample_obs_all[\"x\"]\n",
    "umap_cord = umap_cord.drop_duplicates(['Unnamed: 0'])\n",
    "umap_cord"
   ],
   "metadata": {
    "collapsed": false
   }
  },
  {
   "cell_type": "code",
   "execution_count": 68,
   "outputs": [],
   "source": [
    "cell_clusters['Unnamed: 0'] = sample_obs_all[\"x\"]\n",
    "cell_clusters = cell_clusters.drop_duplicates(['Unnamed: 0'])"
   ],
   "metadata": {
    "collapsed": false
   }
  },
  {
   "cell_type": "code",
   "execution_count": 69,
   "outputs": [],
   "source": [
    "combined = cell_clusters.merge(umap_cord, on=\"Unnamed: 0\")"
   ],
   "metadata": {
    "collapsed": false
   }
  },
  {
   "cell_type": "code",
   "execution_count": 70,
   "outputs": [],
   "source": [
    "invitro_all3.obs['CellID1'] = invitro_all3.obs.index\n",
    "invitro_all3.obs = invitro_all3.obs.merge(combined,left_on=\"newid\", right_on=\"Unnamed: 0\", how=\"left\")"
   ],
   "metadata": {
    "collapsed": false
   }
  },
  {
   "cell_type": "code",
   "execution_count": 71,
   "outputs": [
    {
     "data": {
      "text/plain": "                          Clusters         _X         _Y               newid  \\\nCellID                                                                         \nGWT1:AAAGTGATCACCGACGx-0         1 -17.077444 -11.869936  AAAGTGATCACCGACG-1   \nGWT1:AACAAAGTCGGAGTGAx-0         9  12.098558  16.949923  AACAAAGTCGGAGTGA-1   \nGWT1:AAACGCTGTGTTCGATx-0         6  -4.913635 -31.655123  AAACGCTGTGTTCGAT-1   \nGWT1:AAAGTCCCAACGACAGx-0        10 -13.780383  30.208845  AAAGTCCCAACGACAG-1   \nGWT1:AAAGTGAGTTCGAACTx-0         4  16.889030 -27.093758  AAAGTGAGTTCGAACT-1   \n...                            ...        ...        ...                 ...   \nGKO1:TTTGTTGCAGCAGATGx-3        11  17.495062  40.408279  TTTGTTGCAGCAGATG-1   \nGKO1:TTTGGAGAGGAAGTAGx-3         8   9.889330  26.435860  TTTGGAGAGGAAGTAG-1   \nGKO1:TTTGACTGTCGTACTAx-3         1 -21.976715  -2.905352  TTTGACTGTCGTACTA-1   \nGKO1:TTTGGAGTCCTTACCGx-3         8  42.646080  10.316961  TTTGGAGTCCTTACCG-1   \nGKO1:TTTGGTTGTCTCACAAx-3         0 -25.150513 -11.142797  TTTGGTTGTCTCACAA-1   \n\n                         batch newid1                   CellID1  \\\nCellID                                                            \nGWT1:AAAGTGATCACCGACGx-0     0         GWT1:AAAGTGATCACCGACGx-0   \nGWT1:AACAAAGTCGGAGTGAx-0     0         GWT1:AACAAAGTCGGAGTGAx-0   \nGWT1:AAACGCTGTGTTCGATx-0     0         GWT1:AAACGCTGTGTTCGATx-0   \nGWT1:AAAGTCCCAACGACAGx-0     0         GWT1:AAAGTCCCAACGACAGx-0   \nGWT1:AAAGTGAGTTCGAACTx-0     0         GWT1:AAAGTGAGTTCGAACTx-0   \n...                        ...    ...                       ...   \nGKO1:TTTGTTGCAGCAGATGx-3     3         GKO1:TTTGTTGCAGCAGATGx-3   \nGKO1:TTTGGAGAGGAAGTAGx-3     3         GKO1:TTTGGAGAGGAAGTAGx-3   \nGKO1:TTTGACTGTCGTACTAx-3     3         GKO1:TTTGACTGTCGTACTAx-3   \nGKO1:TTTGGAGTCCTTACCGx-3     3         GKO1:TTTGGAGTCCTTACCGx-3   \nGKO1:TTTGGTTGTCTCACAAx-3     3         GKO1:TTTGGTTGTCTCACAAx-3   \n\n                                  Unnamed: 0  x    UMAP_1    UMAP_2  \\\nCellID                                                                \nGWT1:AAAGTGATCACCGACGx-0  AAAGTGATCACCGACG-1  1 -2.844779 -4.741085   \nGWT1:AACAAAGTCGGAGTGAx-0  AACAAAGTCGGAGTGA-1  1 -3.589407  0.633650   \nGWT1:AAACGCTGTGTTCGATx-0  AAACGCTGTGTTCGAT-1  1  1.552553  1.454273   \nGWT1:AAAGTCCCAACGACAGx-0  AAAGTCCCAACGACAG-1  1 -1.306827 -0.967202   \nGWT1:AAAGTGAGTTCGAACTx-0  AAAGTGAGTTCGAACT-1  1 -1.542258  3.240822   \n...                                      ... ..       ...       ...   \nGKO1:TTTGTTGCAGCAGATGx-3  TTTGTTGCAGCAGATG-1  4  2.015658 -7.688165   \nGKO1:TTTGGAGAGGAAGTAGx-3  TTTGGAGAGGAAGTAG-1  4 -0.598763 -2.847061   \nGKO1:TTTGACTGTCGTACTAx-3  TTTGACTGTCGTACTA-1  1  2.514450 -1.494023   \nGKO1:TTTGGAGTCCTTACCGx-3  TTTGGAGTCCTTACCG-1  1  1.228159  1.493315   \nGKO1:TTTGGTTGTCTCACAAx-3  TTTGGTTGTCTCACAA-1  1 -1.225438  0.361336   \n\n                                            CellID  \nCellID                                              \nGWT1:AAAGTGATCACCGACGx-0  GWT1:AAAGTGATCACCGACGx-0  \nGWT1:AACAAAGTCGGAGTGAx-0  GWT1:AACAAAGTCGGAGTGAx-0  \nGWT1:AAACGCTGTGTTCGATx-0  GWT1:AAACGCTGTGTTCGATx-0  \nGWT1:AAAGTCCCAACGACAGx-0  GWT1:AAAGTCCCAACGACAGx-0  \nGWT1:AAAGTGAGTTCGAACTx-0  GWT1:AAAGTGAGTTCGAACTx-0  \n...                                            ...  \nGKO1:TTTGTTGCAGCAGATGx-3  GKO1:TTTGTTGCAGCAGATGx-3  \nGKO1:TTTGGAGAGGAAGTAGx-3  GKO1:TTTGGAGAGGAAGTAGx-3  \nGKO1:TTTGACTGTCGTACTAx-3  GKO1:TTTGACTGTCGTACTAx-3  \nGKO1:TTTGGAGTCCTTACCGx-3  GKO1:TTTGGAGTCCTTACCGx-3  \nGKO1:TTTGGTTGTCTCACAAx-3  GKO1:TTTGGTTGTCTCACAAx-3  \n\n[43244 rows x 12 columns]",
      "text/html": "<div>\n<style scoped>\n    .dataframe tbody tr th:only-of-type {\n        vertical-align: middle;\n    }\n\n    .dataframe tbody tr th {\n        vertical-align: top;\n    }\n\n    .dataframe thead th {\n        text-align: right;\n    }\n</style>\n<table border=\"1\" class=\"dataframe\">\n  <thead>\n    <tr style=\"text-align: right;\">\n      <th></th>\n      <th>Clusters</th>\n      <th>_X</th>\n      <th>_Y</th>\n      <th>newid</th>\n      <th>batch</th>\n      <th>newid1</th>\n      <th>CellID1</th>\n      <th>Unnamed: 0</th>\n      <th>x</th>\n      <th>UMAP_1</th>\n      <th>UMAP_2</th>\n      <th>CellID</th>\n    </tr>\n    <tr>\n      <th>CellID</th>\n      <th></th>\n      <th></th>\n      <th></th>\n      <th></th>\n      <th></th>\n      <th></th>\n      <th></th>\n      <th></th>\n      <th></th>\n      <th></th>\n      <th></th>\n      <th></th>\n    </tr>\n  </thead>\n  <tbody>\n    <tr>\n      <th>GWT1:AAAGTGATCACCGACGx-0</th>\n      <td>1</td>\n      <td>-17.077444</td>\n      <td>-11.869936</td>\n      <td>AAAGTGATCACCGACG-1</td>\n      <td>0</td>\n      <td></td>\n      <td>GWT1:AAAGTGATCACCGACGx-0</td>\n      <td>AAAGTGATCACCGACG-1</td>\n      <td>1</td>\n      <td>-2.844779</td>\n      <td>-4.741085</td>\n      <td>GWT1:AAAGTGATCACCGACGx-0</td>\n    </tr>\n    <tr>\n      <th>GWT1:AACAAAGTCGGAGTGAx-0</th>\n      <td>9</td>\n      <td>12.098558</td>\n      <td>16.949923</td>\n      <td>AACAAAGTCGGAGTGA-1</td>\n      <td>0</td>\n      <td></td>\n      <td>GWT1:AACAAAGTCGGAGTGAx-0</td>\n      <td>AACAAAGTCGGAGTGA-1</td>\n      <td>1</td>\n      <td>-3.589407</td>\n      <td>0.633650</td>\n      <td>GWT1:AACAAAGTCGGAGTGAx-0</td>\n    </tr>\n    <tr>\n      <th>GWT1:AAACGCTGTGTTCGATx-0</th>\n      <td>6</td>\n      <td>-4.913635</td>\n      <td>-31.655123</td>\n      <td>AAACGCTGTGTTCGAT-1</td>\n      <td>0</td>\n      <td></td>\n      <td>GWT1:AAACGCTGTGTTCGATx-0</td>\n      <td>AAACGCTGTGTTCGAT-1</td>\n      <td>1</td>\n      <td>1.552553</td>\n      <td>1.454273</td>\n      <td>GWT1:AAACGCTGTGTTCGATx-0</td>\n    </tr>\n    <tr>\n      <th>GWT1:AAAGTCCCAACGACAGx-0</th>\n      <td>10</td>\n      <td>-13.780383</td>\n      <td>30.208845</td>\n      <td>AAAGTCCCAACGACAG-1</td>\n      <td>0</td>\n      <td></td>\n      <td>GWT1:AAAGTCCCAACGACAGx-0</td>\n      <td>AAAGTCCCAACGACAG-1</td>\n      <td>1</td>\n      <td>-1.306827</td>\n      <td>-0.967202</td>\n      <td>GWT1:AAAGTCCCAACGACAGx-0</td>\n    </tr>\n    <tr>\n      <th>GWT1:AAAGTGAGTTCGAACTx-0</th>\n      <td>4</td>\n      <td>16.889030</td>\n      <td>-27.093758</td>\n      <td>AAAGTGAGTTCGAACT-1</td>\n      <td>0</td>\n      <td></td>\n      <td>GWT1:AAAGTGAGTTCGAACTx-0</td>\n      <td>AAAGTGAGTTCGAACT-1</td>\n      <td>1</td>\n      <td>-1.542258</td>\n      <td>3.240822</td>\n      <td>GWT1:AAAGTGAGTTCGAACTx-0</td>\n    </tr>\n    <tr>\n      <th>...</th>\n      <td>...</td>\n      <td>...</td>\n      <td>...</td>\n      <td>...</td>\n      <td>...</td>\n      <td>...</td>\n      <td>...</td>\n      <td>...</td>\n      <td>...</td>\n      <td>...</td>\n      <td>...</td>\n      <td>...</td>\n    </tr>\n    <tr>\n      <th>GKO1:TTTGTTGCAGCAGATGx-3</th>\n      <td>11</td>\n      <td>17.495062</td>\n      <td>40.408279</td>\n      <td>TTTGTTGCAGCAGATG-1</td>\n      <td>3</td>\n      <td></td>\n      <td>GKO1:TTTGTTGCAGCAGATGx-3</td>\n      <td>TTTGTTGCAGCAGATG-1</td>\n      <td>4</td>\n      <td>2.015658</td>\n      <td>-7.688165</td>\n      <td>GKO1:TTTGTTGCAGCAGATGx-3</td>\n    </tr>\n    <tr>\n      <th>GKO1:TTTGGAGAGGAAGTAGx-3</th>\n      <td>8</td>\n      <td>9.889330</td>\n      <td>26.435860</td>\n      <td>TTTGGAGAGGAAGTAG-1</td>\n      <td>3</td>\n      <td></td>\n      <td>GKO1:TTTGGAGAGGAAGTAGx-3</td>\n      <td>TTTGGAGAGGAAGTAG-1</td>\n      <td>4</td>\n      <td>-0.598763</td>\n      <td>-2.847061</td>\n      <td>GKO1:TTTGGAGAGGAAGTAGx-3</td>\n    </tr>\n    <tr>\n      <th>GKO1:TTTGACTGTCGTACTAx-3</th>\n      <td>1</td>\n      <td>-21.976715</td>\n      <td>-2.905352</td>\n      <td>TTTGACTGTCGTACTA-1</td>\n      <td>3</td>\n      <td></td>\n      <td>GKO1:TTTGACTGTCGTACTAx-3</td>\n      <td>TTTGACTGTCGTACTA-1</td>\n      <td>1</td>\n      <td>2.514450</td>\n      <td>-1.494023</td>\n      <td>GKO1:TTTGACTGTCGTACTAx-3</td>\n    </tr>\n    <tr>\n      <th>GKO1:TTTGGAGTCCTTACCGx-3</th>\n      <td>8</td>\n      <td>42.646080</td>\n      <td>10.316961</td>\n      <td>TTTGGAGTCCTTACCG-1</td>\n      <td>3</td>\n      <td></td>\n      <td>GKO1:TTTGGAGTCCTTACCGx-3</td>\n      <td>TTTGGAGTCCTTACCG-1</td>\n      <td>1</td>\n      <td>1.228159</td>\n      <td>1.493315</td>\n      <td>GKO1:TTTGGAGTCCTTACCGx-3</td>\n    </tr>\n    <tr>\n      <th>GKO1:TTTGGTTGTCTCACAAx-3</th>\n      <td>0</td>\n      <td>-25.150513</td>\n      <td>-11.142797</td>\n      <td>TTTGGTTGTCTCACAA-1</td>\n      <td>3</td>\n      <td></td>\n      <td>GKO1:TTTGGTTGTCTCACAAx-3</td>\n      <td>TTTGGTTGTCTCACAA-1</td>\n      <td>1</td>\n      <td>-1.225438</td>\n      <td>0.361336</td>\n      <td>GKO1:TTTGGTTGTCTCACAAx-3</td>\n    </tr>\n  </tbody>\n</table>\n<p>43244 rows × 12 columns</p>\n</div>"
     },
     "execution_count": 71,
     "metadata": {},
     "output_type": "execute_result"
    }
   ],
   "source": [
    "invitro_all3.obs[\"CellID\"] = invitro_all3.obs[\"CellID1\"]\n",
    "invitro_all3.obs.index = invitro_all3.obs[\"CellID\"]\n",
    "invitro_all3.obs"
   ],
   "metadata": {
    "collapsed": false
   }
  },
  {
   "cell_type": "code",
   "execution_count": 73,
   "outputs": [],
   "source": [
    "X_umap = np.stack([invitro_all3.obs[\"UMAP_1\"], invitro_all3.obs[\"UMAP_2\"]]).T"
   ],
   "metadata": {
    "collapsed": false
   }
  },
  {
   "cell_type": "code",
   "execution_count": 74,
   "outputs": [],
   "source": [
    "invitro_all3.obsm['X_umap'] = X_umap\n"
   ],
   "metadata": {
    "collapsed": false
   }
  },
  {
   "cell_type": "code",
   "execution_count": 75,
   "outputs": [],
   "source": [
    "invitro2 =invitro_all3"
   ],
   "metadata": {
    "collapsed": false
   }
  },
  {
   "cell_type": "code",
   "execution_count": 76,
   "outputs": [
    {
     "name": "stdout",
     "output_type": "stream",
     "text": [
      "Filtered out 25057 genes that are detected 30 counts (shared).\n",
      "Normalized count data: X, spliced, unspliced.\n",
      "Extracted 4000 highly variable genes.\n",
      "Logarithmized X.\n"
     ]
    }
   ],
   "source": [
    "scv.pp.filter_and_normalize(invitro2, min_shared_counts=30, n_top_genes=4000)"
   ],
   "metadata": {
    "collapsed": false
   }
  },
  {
   "cell_type": "code",
   "execution_count": 77,
   "outputs": [
    {
     "name": "stdout",
     "output_type": "stream",
     "text": [
      "computing neighbors\n",
      "    finished (0:00:31) --> added \n",
      "    'distances' and 'connectivities', weighted adjacency matrices (adata.obsp)\n",
      "computing moments based on connectivities\n",
      "    finished (0:00:13) --> added \n",
      "    'Ms' and 'Mu', moments of un/spliced abundances (adata.layers)\n",
      "recovering dynamics (using 1/8 cores)\n"
     ]
    },
    {
     "data": {
      "text/plain": "  0%|          | 0/914 [00:00<?, ?gene/s]",
      "application/vnd.jupyter.widget-view+json": {
       "version_major": 2,
       "version_minor": 0,
       "model_id": "029d671da4a0440db1dc3d5fc77958c0"
      }
     },
     "metadata": {},
     "output_type": "display_data"
    },
    {
     "name": "stdout",
     "output_type": "stream",
     "text": [
      "    finished (0:43:35) --> added \n",
      "    'fit_pars', fitted parameters for splicing dynamics (adata.var)\n",
      "computing velocities\n",
      "    finished (0:00:51) --> added \n",
      "    'velocity', velocity vectors for each individual cell (adata.layers)\n",
      "computing velocity graph (using 1/8 cores)\n"
     ]
    },
    {
     "data": {
      "text/plain": "  0%|          | 0/43244 [00:00<?, ?cells/s]",
      "application/vnd.jupyter.widget-view+json": {
       "version_major": 2,
       "version_minor": 0,
       "model_id": "e496226b50524bd0a20fcf9ff5c67637"
      }
     },
     "metadata": {},
     "output_type": "display_data"
    },
    {
     "name": "stdout",
     "output_type": "stream",
     "text": [
      "    finished (0:01:57) --> added \n",
      "    'velocity_graph', sparse matrix with cosine correlations (adata.uns)\n",
      "computing terminal states\n",
      "    identified 10 regions of root cells and 1 region of end points .\n",
      "    finished (0:00:11) --> added\n",
      "    'root_cells', root cells of Markov diffusion process (adata.obs)\n",
      "    'end_points', end points of Markov diffusion process (adata.obs)\n",
      "computing latent time using root_cells as prior\n",
      "    finished (0:00:25) --> added \n",
      "    'latent_time', shared time (adata.obs)\n"
     ]
    }
   ],
   "source": [
    "scv.pp.moments(invitro2, n_pcs=100, n_neighbors=20)\n",
    "scv.tl.recover_dynamics(invitro2)\n",
    "scv.tl.velocity(invitro2, mode='dynamical', )\n",
    "scv.tl.velocity_graph(invitro2)\n",
    "scv.tl.recover_latent_time(invitro2, t_max=20000)"
   ],
   "metadata": {
    "collapsed": false
   }
  },
  {
   "cell_type": "code",
   "execution_count": 1,
   "outputs": [
    {
     "ename": "NameError",
     "evalue": "name 'scv' is not defined",
     "output_type": "error",
     "traceback": [
      "\u001B[0;31m---------------------------------------------------------------------------\u001B[0m",
      "\u001B[0;31mNameError\u001B[0m                                 Traceback (most recent call last)",
      "Input \u001B[0;32mIn [1]\u001B[0m, in \u001B[0;36m<cell line: 1>\u001B[0;34m()\u001B[0m\n\u001B[0;32m----> 1\u001B[0m \u001B[43mscv\u001B[49m\u001B[38;5;241m.\u001B[39mpl\u001B[38;5;241m.\u001B[39mvelocity_embedding_stream(invitro2,color\u001B[38;5;241m=\u001B[39m\u001B[38;5;124m'\u001B[39m\u001B[38;5;124mx\u001B[39m\u001B[38;5;124m'\u001B[39m, title\u001B[38;5;241m=\u001B[39m\u001B[38;5;124m'\u001B[39m\u001B[38;5;124mSurvival_SCVELO\u001B[39m\u001B[38;5;124m'\u001B[39m,save\u001B[38;5;241m=\u001B[39m\u001B[38;5;124m'\u001B[39m\u001B[38;5;124m/Users/fayzan/PycharmProjects/Betel/scVelo-survival2.png\u001B[39m\u001B[38;5;124m'\u001B[39m)\n",
      "\u001B[0;31mNameError\u001B[0m: name 'scv' is not defined"
     ]
    }
   ],
   "source": [
    "scv.pl.velocity_embedding_stream(invitro2,color='x', title='Survival_SCVELO',save='/Users/fayzan/PycharmProjects/Betel/scVelo-survival2.png')"
   ],
   "metadata": {
    "collapsed": false
   }
  },
  {
   "cell_type": "code",
   "execution_count": 92,
   "outputs": [
    {
     "ename": "ValueError",
     "evalue": "Number of rows must be a positive integer, not 0",
     "output_type": "error",
     "traceback": [
      "\u001B[0;31m---------------------------------------------------------------------------\u001B[0m",
      "\u001B[0;31mValueError\u001B[0m                                Traceback (most recent call last)",
      "Input \u001B[0;32mIn [92]\u001B[0m, in \u001B[0;36m<cell line: 1>\u001B[0;34m()\u001B[0m\n\u001B[0;32m----> 1\u001B[0m \u001B[43mscv\u001B[49m\u001B[38;5;241;43m.\u001B[39;49m\u001B[43mpl\u001B[49m\u001B[38;5;241;43m.\u001B[39;49m\u001B[43mvelocity\u001B[49m\u001B[43m(\u001B[49m\u001B[43minvitro2\u001B[49m\u001B[43m,\u001B[49m\u001B[43m \u001B[49m\u001B[43m[\u001B[49m\u001B[38;5;124;43m'\u001B[39;49m\u001B[38;5;124;43mTP53\u001B[39;49m\u001B[38;5;124;43m'\u001B[39;49m\u001B[43m]\u001B[49m\u001B[43m,\u001B[49m\u001B[43m \u001B[49m\u001B[43mncols\u001B[49m\u001B[38;5;241;43m=\u001B[39;49m\u001B[38;5;241;43m2\u001B[39;49m\u001B[43m,\u001B[49m\u001B[43m \u001B[49m\u001B[43msave\u001B[49m\u001B[38;5;241;43m=\u001B[39;49m\u001B[38;5;124;43m'\u001B[39;49m\u001B[38;5;124;43m/Users/fayzan/PycharmProjects/Betel/scVelo-umap-genes.png\u001B[39;49m\u001B[38;5;124;43m'\u001B[39;49m\u001B[43m)\u001B[49m\n",
      "File \u001B[0;32m~/PycharmProjects/Betel/venv/lib/python3.8/site-packages/scvelo/plotting/velocity.py:152\u001B[0m, in \u001B[0;36mvelocity\u001B[0;34m(adata, var_names, basis, vkey, mode, fits, layers, color, color_map, colorbar, perc, alpha, size, groupby, groups, legend_loc, legend_fontsize, use_raw, fontsize, figsize, dpi, show, save, ax, ncols, **kwargs)\u001B[0m\n\u001B[1;32m    150\u001B[0m     gs_figsize \u001B[38;5;241m=\u001B[39m (figsize[\u001B[38;5;241m0\u001B[39m] \u001B[38;5;241m*\u001B[39m ncols \u001B[38;5;241m/\u001B[39m \u001B[38;5;241m2\u001B[39m, figsize[\u001B[38;5;241m1\u001B[39m] \u001B[38;5;241m*\u001B[39m nrows \u001B[38;5;241m/\u001B[39m \u001B[38;5;241m2\u001B[39m)\n\u001B[1;32m    151\u001B[0m     ax \u001B[38;5;241m=\u001B[39m pl\u001B[38;5;241m.\u001B[39mfigure(figsize\u001B[38;5;241m=\u001B[39mgs_figsize, dpi\u001B[38;5;241m=\u001B[39mdpi)\n\u001B[0;32m--> 152\u001B[0m gs \u001B[38;5;241m=\u001B[39m \u001B[43mpl\u001B[49m\u001B[38;5;241;43m.\u001B[39;49m\u001B[43mGridSpec\u001B[49m\u001B[43m(\u001B[49m\u001B[43mnrows\u001B[49m\u001B[43m,\u001B[49m\u001B[43m \u001B[49m\u001B[43mncols\u001B[49m\u001B[43m,\u001B[49m\u001B[43m \u001B[49m\u001B[43mwspace\u001B[49m\u001B[38;5;241;43m=\u001B[39;49m\u001B[38;5;241;43m0.5\u001B[39;49m\u001B[43m,\u001B[49m\u001B[43m \u001B[49m\u001B[43mhspace\u001B[49m\u001B[38;5;241;43m=\u001B[39;49m\u001B[38;5;241;43m0.8\u001B[39;49m\u001B[43m)\u001B[49m\n\u001B[1;32m    154\u001B[0m \u001B[38;5;66;03m# half size, since fontsize is halved in width and height\u001B[39;00m\n\u001B[1;32m    155\u001B[0m size \u001B[38;5;241m=\u001B[39m default_size(adata) \u001B[38;5;241m/\u001B[39m \u001B[38;5;241m2\u001B[39m \u001B[38;5;28;01mif\u001B[39;00m size \u001B[38;5;129;01mis\u001B[39;00m \u001B[38;5;28;01mNone\u001B[39;00m \u001B[38;5;28;01melse\u001B[39;00m size\n",
      "File \u001B[0;32m~/PycharmProjects/Betel/venv/lib/python3.8/site-packages/matplotlib/gridspec.py:385\u001B[0m, in \u001B[0;36mGridSpec.__init__\u001B[0;34m(self, nrows, ncols, figure, left, bottom, right, top, wspace, hspace, width_ratios, height_ratios)\u001B[0m\n\u001B[1;32m    382\u001B[0m \u001B[38;5;28mself\u001B[39m\u001B[38;5;241m.\u001B[39mhspace \u001B[38;5;241m=\u001B[39m hspace\n\u001B[1;32m    383\u001B[0m \u001B[38;5;28mself\u001B[39m\u001B[38;5;241m.\u001B[39mfigure \u001B[38;5;241m=\u001B[39m figure\n\u001B[0;32m--> 385\u001B[0m \u001B[38;5;28;43msuper\u001B[39;49m\u001B[43m(\u001B[49m\u001B[43m)\u001B[49m\u001B[38;5;241;43m.\u001B[39;49m\u001B[38;5;21;43m__init__\u001B[39;49m\u001B[43m(\u001B[49m\u001B[43mnrows\u001B[49m\u001B[43m,\u001B[49m\u001B[43m \u001B[49m\u001B[43mncols\u001B[49m\u001B[43m,\u001B[49m\n\u001B[1;32m    386\u001B[0m \u001B[43m                 \u001B[49m\u001B[43mwidth_ratios\u001B[49m\u001B[38;5;241;43m=\u001B[39;49m\u001B[43mwidth_ratios\u001B[49m\u001B[43m,\u001B[49m\n\u001B[1;32m    387\u001B[0m \u001B[43m                 \u001B[49m\u001B[43mheight_ratios\u001B[49m\u001B[38;5;241;43m=\u001B[39;49m\u001B[43mheight_ratios\u001B[49m\u001B[43m)\u001B[49m\n",
      "File \u001B[0;32m~/PycharmProjects/Betel/venv/lib/python3.8/site-packages/matplotlib/gridspec.py:49\u001B[0m, in \u001B[0;36mGridSpecBase.__init__\u001B[0;34m(self, nrows, ncols, height_ratios, width_ratios)\u001B[0m\n\u001B[1;32m     34\u001B[0m \u001B[38;5;124;03m\"\"\"\u001B[39;00m\n\u001B[1;32m     35\u001B[0m \u001B[38;5;124;03mParameters\u001B[39;00m\n\u001B[1;32m     36\u001B[0m \u001B[38;5;124;03m----------\u001B[39;00m\n\u001B[0;32m   (...)\u001B[0m\n\u001B[1;32m     46\u001B[0m \u001B[38;5;124;03m    If not given, all rows will have the same height.\u001B[39;00m\n\u001B[1;32m     47\u001B[0m \u001B[38;5;124;03m\"\"\"\u001B[39;00m\n\u001B[1;32m     48\u001B[0m \u001B[38;5;28;01mif\u001B[39;00m \u001B[38;5;129;01mnot\u001B[39;00m \u001B[38;5;28misinstance\u001B[39m(nrows, Integral) \u001B[38;5;129;01mor\u001B[39;00m nrows \u001B[38;5;241m<\u001B[39m\u001B[38;5;241m=\u001B[39m \u001B[38;5;241m0\u001B[39m:\n\u001B[0;32m---> 49\u001B[0m     \u001B[38;5;28;01mraise\u001B[39;00m \u001B[38;5;167;01mValueError\u001B[39;00m(\n\u001B[1;32m     50\u001B[0m         \u001B[38;5;124mf\u001B[39m\u001B[38;5;124m\"\u001B[39m\u001B[38;5;124mNumber of rows must be a positive integer, not \u001B[39m\u001B[38;5;132;01m{\u001B[39;00mnrows\u001B[38;5;132;01m!r}\u001B[39;00m\u001B[38;5;124m\"\u001B[39m)\n\u001B[1;32m     51\u001B[0m \u001B[38;5;28;01mif\u001B[39;00m \u001B[38;5;129;01mnot\u001B[39;00m \u001B[38;5;28misinstance\u001B[39m(ncols, Integral) \u001B[38;5;129;01mor\u001B[39;00m ncols \u001B[38;5;241m<\u001B[39m\u001B[38;5;241m=\u001B[39m \u001B[38;5;241m0\u001B[39m:\n\u001B[1;32m     52\u001B[0m     \u001B[38;5;28;01mraise\u001B[39;00m \u001B[38;5;167;01mValueError\u001B[39;00m(\n\u001B[1;32m     53\u001B[0m         \u001B[38;5;124mf\u001B[39m\u001B[38;5;124m\"\u001B[39m\u001B[38;5;124mNumber of columns must be a positive integer, not \u001B[39m\u001B[38;5;132;01m{\u001B[39;00mncols\u001B[38;5;132;01m!r}\u001B[39;00m\u001B[38;5;124m\"\u001B[39m)\n",
      "\u001B[0;31mValueError\u001B[0m: Number of rows must be a positive integer, not 0"
     ]
    },
    {
     "data": {
      "text/plain": "<Figure size 3000x0 with 0 Axes>"
     },
     "metadata": {},
     "output_type": "display_data"
    }
   ],
   "source": [
    "scv.pl.velocity(invitro2, ['TP53'], ncols=2, save='/Users/fayzan/PycharmProjects/Betel/scVelo-umap-genes.png')"
   ],
   "metadata": {
    "collapsed": false
   }
  },
  {
   "cell_type": "code",
   "execution_count": 80,
   "outputs": [
    {
     "name": "stdout",
     "output_type": "stream",
     "text": [
      "ranking velocity genes\n"
     ]
    },
    {
     "name": "stderr",
     "output_type": "stream",
     "text": [
      "/Users/fayzan/PycharmProjects/Betel/venv/lib/python3.8/site-packages/scvelo/tools/utils.py:501: DeprecationWarning: Please use `rankdata` from the `scipy.stats` namespace, the `scipy.stats.stats` namespace is deprecated.\n",
      "  from scipy.stats.stats import rankdata\n"
     ]
    },
    {
     "name": "stdout",
     "output_type": "stream",
     "text": [
      "    finished (0:01:01) --> added \n",
      "    'rank_velocity_genes', sorted scores by group ids (adata.uns) \n",
      "    'spearmans_score', spearmans correlation scores (adata.var)\n"
     ]
    },
    {
     "name": "stderr",
     "output_type": "stream",
     "text": [
      "/var/folders/qp/kmdv8mvd271c5z_q5khfgr500000gn/T/ipykernel_39855/3448377130.py:3: DeprecationWarning: `scvelo.read_load.get_df` is deprecated since scVelo v0.2.4 and will be removed in a future version. Please use `scvelo.core.get_df` instead.\n",
      "  df = scv.DataFrame(invitro2.uns['rank_velocity_genes']['names'])\n"
     ]
    },
    {
     "data": {
      "text/plain": "          1           2       3       4          5        6        7\n0   C7orf33      CDKN1C    ARF1   PDIA3      SULF1     YAP1     YAP1\n1     BTBD8        ACHE    FTH1  RPS27L       YAP1   TCF7L1     MCL1\n2    SNAP25       CXXC5     ARX   SPDYA     TCF7L1    KPNA2    MEX3A\n3     SYT13      RPS27L  TCF7L1   GAP43        ARX     EIF1   TCF7L1\n4      UPP1      TCF7L1   KPNA2  PRXL2A       ARF1      ARX      VGF\n..      ...         ...     ...     ...        ...      ...      ...\n95    CCBE1      PPFIA3    MIB1  MARCH3      RBM39   COL4A5  CTNNAL1\n96      PAM       GSK3A     MYC   MAML2     TRIM28   KLHL35    ZFHX4\n97      UBC      DDX39B    IRS2  DYNLL1  GABARAPL1     HCN2    YPEL5\n98   VSTM2L      GABRR2    NEFM    LMO3     HNRNPL  SMPDL3A    CWC25\n99   RXYLT1  AC004540.2    OTX2   ASCL1       MCL1    ATG4B     NXF1\n\n[100 rows x 7 columns]",
      "text/html": "<div>\n<style scoped>\n    .dataframe tbody tr th:only-of-type {\n        vertical-align: middle;\n    }\n\n    .dataframe tbody tr th {\n        vertical-align: top;\n    }\n\n    .dataframe thead th {\n        text-align: right;\n    }\n</style>\n<table border=\"1\" class=\"dataframe\">\n  <thead>\n    <tr style=\"text-align: right;\">\n      <th></th>\n      <th>1</th>\n      <th>2</th>\n      <th>3</th>\n      <th>4</th>\n      <th>5</th>\n      <th>6</th>\n      <th>7</th>\n    </tr>\n  </thead>\n  <tbody>\n    <tr>\n      <th>0</th>\n      <td>C7orf33</td>\n      <td>CDKN1C</td>\n      <td>ARF1</td>\n      <td>PDIA3</td>\n      <td>SULF1</td>\n      <td>YAP1</td>\n      <td>YAP1</td>\n    </tr>\n    <tr>\n      <th>1</th>\n      <td>BTBD8</td>\n      <td>ACHE</td>\n      <td>FTH1</td>\n      <td>RPS27L</td>\n      <td>YAP1</td>\n      <td>TCF7L1</td>\n      <td>MCL1</td>\n    </tr>\n    <tr>\n      <th>2</th>\n      <td>SNAP25</td>\n      <td>CXXC5</td>\n      <td>ARX</td>\n      <td>SPDYA</td>\n      <td>TCF7L1</td>\n      <td>KPNA2</td>\n      <td>MEX3A</td>\n    </tr>\n    <tr>\n      <th>3</th>\n      <td>SYT13</td>\n      <td>RPS27L</td>\n      <td>TCF7L1</td>\n      <td>GAP43</td>\n      <td>ARX</td>\n      <td>EIF1</td>\n      <td>TCF7L1</td>\n    </tr>\n    <tr>\n      <th>4</th>\n      <td>UPP1</td>\n      <td>TCF7L1</td>\n      <td>KPNA2</td>\n      <td>PRXL2A</td>\n      <td>ARF1</td>\n      <td>ARX</td>\n      <td>VGF</td>\n    </tr>\n    <tr>\n      <th>...</th>\n      <td>...</td>\n      <td>...</td>\n      <td>...</td>\n      <td>...</td>\n      <td>...</td>\n      <td>...</td>\n      <td>...</td>\n    </tr>\n    <tr>\n      <th>95</th>\n      <td>CCBE1</td>\n      <td>PPFIA3</td>\n      <td>MIB1</td>\n      <td>MARCH3</td>\n      <td>RBM39</td>\n      <td>COL4A5</td>\n      <td>CTNNAL1</td>\n    </tr>\n    <tr>\n      <th>96</th>\n      <td>PAM</td>\n      <td>GSK3A</td>\n      <td>MYC</td>\n      <td>MAML2</td>\n      <td>TRIM28</td>\n      <td>KLHL35</td>\n      <td>ZFHX4</td>\n    </tr>\n    <tr>\n      <th>97</th>\n      <td>UBC</td>\n      <td>DDX39B</td>\n      <td>IRS2</td>\n      <td>DYNLL1</td>\n      <td>GABARAPL1</td>\n      <td>HCN2</td>\n      <td>YPEL5</td>\n    </tr>\n    <tr>\n      <th>98</th>\n      <td>VSTM2L</td>\n      <td>GABRR2</td>\n      <td>NEFM</td>\n      <td>LMO3</td>\n      <td>HNRNPL</td>\n      <td>SMPDL3A</td>\n      <td>CWC25</td>\n    </tr>\n    <tr>\n      <th>99</th>\n      <td>RXYLT1</td>\n      <td>AC004540.2</td>\n      <td>OTX2</td>\n      <td>ASCL1</td>\n      <td>MCL1</td>\n      <td>ATG4B</td>\n      <td>NXF1</td>\n    </tr>\n  </tbody>\n</table>\n<p>100 rows × 7 columns</p>\n</div>"
     },
     "execution_count": 80,
     "metadata": {},
     "output_type": "execute_result"
    }
   ],
   "source": [
    "scv.tl.rank_velocity_genes(invitro2, groupby='x', min_corr=.15)\n",
    "\n",
    "df = scv.DataFrame(invitro2.uns['rank_velocity_genes']['names'])\n",
    "df.head(100)"
   ],
   "metadata": {
    "collapsed": false
   }
  },
  {
   "cell_type": "code",
   "execution_count": 84,
   "outputs": [
    {
     "data": {
      "text/plain": "<Figure size 800x400 with 4 Axes>",
      "image/png": "[encoded data removed]"
     },
     "metadata": {
      "image/png": {
       "width": 783,
       "height": 384
      },
      "needs_background": "light"
     },
     "output_type": "display_data"
    }
   ],
   "source": [
    "scv.pl.heatmap(invitro2, var_names=[\"ALDH1A1\", \"LMO3\", \"KCNJ6\", \"AGTR1\", \"EN1\", \"TH\", \"NR4A2\", \"FOXA1\",\"SOX6\", \"SOX5\", \"VGF\", \"CALB1\", \"CALB2\", \"OTX2\", \"BAX\", \"JUN\"], sortby='latent_time', col_color='x', n_convolve=100, colorbar=True, sort=True)"
   ],
   "metadata": {
    "collapsed": false
   }
  },
  {
   "cell_type": "markdown",
   "source": [],
   "metadata": {
    "collapsed": false
   }
  },
  {
   "cell_type": "code",
   "execution_count": null,
   "outputs": [],
   "source": [
    "scv.tl.velocity_pseudotime(invitro2)\n",
    "scv.pl.scatter(invitro2, color='latent_time', cmap='gnuplot', save='/Users/fayzan/PycharmProjects/Betel/scVelo-latent-time2.png')\n"
   ],
   "metadata": {
    "collapsed": false,
    "pycharm": {
     "is_executing": true
    }
   }
  },
  {
   "cell_type": "code",
   "execution_count": null,
   "outputs": [],
   "source": [
    "#Run Cell rank and get dodendogram"
   ],
   "metadata": {
    "collapsed": false
   }
  },
  {
   "cell_type": "code",
   "execution_count": 88,
   "outputs": [
    {
     "ename": "KeyError",
     "evalue": "'paga'",
     "output_type": "error",
     "traceback": [
      "\u001B[0;31m---------------------------------------------------------------------------\u001B[0m",
      "\u001B[0;31mKeyError\u001B[0m                                  Traceback (most recent call last)",
      "Input \u001B[0;32mIn [88]\u001B[0m, in \u001B[0;36m<cell line: 1>\u001B[0;34m()\u001B[0m\n\u001B[0;32m----> 1\u001B[0m \u001B[43mscv\u001B[49m\u001B[38;5;241;43m.\u001B[39;49m\u001B[43mpl\u001B[49m\u001B[38;5;241;43m.\u001B[39;49m\u001B[43mpaga\u001B[49m\u001B[43m(\u001B[49m\u001B[43minvitro2\u001B[49m\u001B[43m,\u001B[49m\u001B[43m \u001B[49m\u001B[43mbasis\u001B[49m\u001B[38;5;241;43m=\u001B[39;49m\u001B[38;5;124;43m'\u001B[39;49m\u001B[38;5;124;43mumap\u001B[39;49m\u001B[38;5;124;43m'\u001B[39;49m\u001B[43m,\u001B[49m\u001B[43m \u001B[49m\u001B[43msize\u001B[49m\u001B[38;5;241;43m=\u001B[39;49m\u001B[38;5;241;43m50\u001B[39;49m\u001B[43m,\u001B[49m\u001B[43m \u001B[49m\u001B[43malpha\u001B[49m\u001B[38;5;241;43m=\u001B[39;49m\u001B[38;5;241;43m.1\u001B[39;49m\u001B[43m,\u001B[49m\n\u001B[1;32m      2\u001B[0m \u001B[43m            \u001B[49m\u001B[43mmin_edge_width\u001B[49m\u001B[38;5;241;43m=\u001B[39;49m\u001B[38;5;241;43m2\u001B[39;49m\u001B[43m,\u001B[49m\u001B[43m \u001B[49m\u001B[43mnode_size_scale\u001B[49m\u001B[38;5;241;43m=\u001B[39;49m\u001B[38;5;241;43m1.5\u001B[39;49m\u001B[43m)\u001B[49m\n",
      "File \u001B[0;32m~/PycharmProjects/Betel/venv/lib/python3.8/site-packages/scvelo/plotting/paga.py:200\u001B[0m, in \u001B[0;36mpaga\u001B[0;34m(adata, basis, vkey, color, layer, title, threshold, layout, layout_kwds, init_pos, root, labels, single_component, dashed_edges, solid_edges, transitions, node_size_scale, node_size_power, edge_width_scale, min_edge_width, max_edge_width, arrowsize, random_state, pos, node_colors, normalize_to_color, cmap, cax, cb_kwds, add_pos, export_to_gexf, plot, use_raw, size, groups, components, figsize, dpi, show, save, ax, ncols, scatter_flag, **kwargs)\u001B[0m\n\u001B[1;32m    198\u001B[0m bases \u001B[38;5;241m=\u001B[39m make_unique_valid_list(adata, basis)\n\u001B[1;32m    199\u001B[0m bases \u001B[38;5;241m=\u001B[39m [default_basis(adata) \u001B[38;5;28;01mif\u001B[39;00m basis \u001B[38;5;129;01mis\u001B[39;00m \u001B[38;5;28;01mNone\u001B[39;00m \u001B[38;5;28;01melse\u001B[39;00m basis \u001B[38;5;28;01mfor\u001B[39;00m basis \u001B[38;5;129;01min\u001B[39;00m bases]\n\u001B[0;32m--> 200\u001B[0m \u001B[38;5;28;01mif\u001B[39;00m transitions \u001B[38;5;129;01mnot\u001B[39;00m \u001B[38;5;129;01min\u001B[39;00m \u001B[43madata\u001B[49m\u001B[38;5;241;43m.\u001B[39;49m\u001B[43muns\u001B[49m\u001B[43m[\u001B[49m\u001B[38;5;124;43m\"\u001B[39;49m\u001B[38;5;124;43mpaga\u001B[39;49m\u001B[38;5;124;43m\"\u001B[39;49m\u001B[43m]\u001B[49m:\n\u001B[1;32m    201\u001B[0m     transitions \u001B[38;5;241m=\u001B[39m \u001B[38;5;28;01mNone\u001B[39;00m\n\u001B[1;32m    202\u001B[0m \u001B[38;5;28;01mif\u001B[39;00m min_edge_width \u001B[38;5;129;01mis\u001B[39;00m \u001B[38;5;129;01mnot\u001B[39;00m \u001B[38;5;28;01mNone\u001B[39;00m:\n",
      "File \u001B[0;32m~/PycharmProjects/Betel/venv/lib/python3.8/site-packages/anndata/compat/_overloaded_dict.py:100\u001B[0m, in \u001B[0;36mOverloadedDict.__getitem__\u001B[0;34m(self, key)\u001B[0m\n\u001B[1;32m     98\u001B[0m     \u001B[38;5;28;01mreturn\u001B[39;00m \u001B[38;5;28mself\u001B[39m\u001B[38;5;241m.\u001B[39moverloaded[key]\u001B[38;5;241m.\u001B[39mget()\n\u001B[1;32m     99\u001B[0m \u001B[38;5;28;01melse\u001B[39;00m:\n\u001B[0;32m--> 100\u001B[0m     \u001B[38;5;28;01mreturn\u001B[39;00m \u001B[38;5;28;43mself\u001B[39;49m\u001B[38;5;241;43m.\u001B[39;49m\u001B[43mdata\u001B[49m\u001B[43m[\u001B[49m\u001B[43mkey\u001B[49m\u001B[43m]\u001B[49m\n",
      "\u001B[0;31mKeyError\u001B[0m: 'paga'"
     ]
    }
   ],
   "source": [
    "scv.pl.paga(invitro2, basis='umap', size=50, alpha=.1,\n",
    "            min_edge_width=2, node_size_scale=1.5)"
   ],
   "metadata": {
    "collapsed": false
   }
  },
  {
   "cell_type": "code",
   "execution_count": 93,
   "outputs": [
    {
     "name": "stderr",
     "output_type": "stream",
     "text": [
      "/Users/fayzan/PycharmProjects/Betel/venv/lib/python3.8/site-packages/cellrank/tl/estimators/_utils.py:4: DeprecationWarning: Using or importing the ABCs from 'collections' instead of from 'collections.abc' is deprecated since Python 3.3, and in 3.9 it will stop working\n",
      "  from collections import Iterable\n",
      "/Users/fayzan/PycharmProjects/Betel/venv/lib/python3.8/site-packages/cellrank/pl/_heatmap.py:36: DeprecationWarning: Please use `convolve` from the `scipy.ndimage` namespace, the `scipy.ndimage.filters` namespace is deprecated.\n",
      "  from scipy.ndimage.filters import convolve\n"
     ]
    }
   ],
   "source": [
    "import cellrank as cr\n",
    "\n",
    "\n"
   ],
   "metadata": {
    "collapsed": false
   }
  },
  {
   "cell_type": "code",
   "execution_count": null,
   "outputs": [
    {
     "name": "stderr",
     "output_type": "stream",
     "text": [
      "/var/folders/qp/kmdv8mvd271c5z_q5khfgr500000gn/T/ipykernel_39855/513860638.py:1: DeprecationWarning: `cellrank.tl.terminal_states` will be removed in version `2.0`. Please use the `cellrank.kernels` or `cellrank.estimators` interface instead.\n",
      "  cr.tl.terminal_states(invitro2, cluster_key=\"x\", weight_connectivities=0.2)\n",
      "/Users/fayzan/PycharmProjects/Betel/venv/lib/python3.8/site-packages/cellrank/tl/_init_term_states.py:156: DeprecationWarning: `cellrank.tl.transition_matrix` will be removed in version `2.0`. Please use the `cellrank.kernels` or `cellrank.estimators` interface instead.\n",
      "  kernel = transition_matrix(\n"
     ]
    },
    {
     "data": {
      "text/plain": "  0%|          | 0/43244 [00:00<?, ?cell/s]",
      "application/vnd.jupyter.widget-view+json": {
       "version_major": 2,
       "version_minor": 0,
       "model_id": "69e2ff7048f54c71b79d89ef3a63b499"
      }
     },
     "metadata": {},
     "output_type": "display_data"
    },
    {
     "data": {
      "text/plain": "  0%|          | 0/43244 [00:00<?, ?cell/s]",
      "application/vnd.jupyter.widget-view+json": {
       "version_major": 2,
       "version_minor": 0,
       "model_id": "692e683880d747918811d2561a61d639"
      }
     },
     "metadata": {},
     "output_type": "display_data"
    },
    {
     "name": "stdout",
     "output_type": "stream",
     "text": [
      "WARNING: Unable to import `petsc4py` or `slepc4py`. Using `method='brandts'`\n",
      "WARNING: For `method='brandts'`, dense matrix is required. Densifying\n"
     ]
    }
   ],
   "source": [
    "\n",
    "cr.tl.terminal_states(invitro2, cluster_key=\"x\", weight_connectivities=0.2)\n",
    "cr.pl.terminal_states(invitro2)"
   ],
   "metadata": {
    "collapsed": false,
    "pycharm": {
     "is_executing": true
    }
   }
  },
  {
   "cell_type": "code",
   "execution_count": null,
   "outputs": [],
   "source": [],
   "metadata": {
    "collapsed": false
   }
  }
 ],
 "metadata": {
  "kernelspec": {
   "display_name": "Python 3",
   "language": "python",
   "name": "python3"
  },
  "language_info": {
   "codemirror_mode": {
    "name": "ipython",
    "version": 2
   },
   "file_extension": ".py",
   "mimetype": "text/x-python",
   "name": "python",
   "nbconvert_exporter": "python",
   "pygments_lexer": "ipython2",
   "version": "2.7.6"
  }
 },
 "nbformat": 4,
 "nbformat_minor": 0
}
